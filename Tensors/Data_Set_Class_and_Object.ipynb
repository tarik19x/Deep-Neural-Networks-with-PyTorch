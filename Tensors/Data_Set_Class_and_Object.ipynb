{
  "nbformat": 4,
  "nbformat_minor": 0,
  "metadata": {
    "kernelspec": {
      "display_name": "Python 3",
      "language": "python",
      "name": "python3"
    },
    "language_info": {
      "codemirror_mode": {
        "name": "ipython",
        "version": 3
      },
      "file_extension": ".py",
      "mimetype": "text/x-python",
      "name": "python",
      "nbconvert_exporter": "python",
      "pygments_lexer": "ipython3",
      "version": "3.7.6"
    },
    "colab": {
      "name": "Data Set Class and Object.ipynb",
      "provenance": [],
      "include_colab_link": true
    }
  },
  "cells": [
    {
      "cell_type": "markdown",
      "metadata": {
        "id": "view-in-github",
        "colab_type": "text"
      },
      "source": [
        "<a href=\"https://colab.research.google.com/github/tarik19x/PytorchBasic/blob/main/Tensors/Data_Set_Class_and_Object.ipynb\" target=\"_parent\"><img src=\"https://colab.research.google.com/assets/colab-badge.svg\" alt=\"Open In Colab\"/></a>"
      ]
    },
    {
      "cell_type": "markdown",
      "metadata": {
        "id": "iG4HJ4wmfW_z"
      },
      "source": [
        "<center>\n",
        "    <img src=\"https://cf-courses-data.s3.us.cloud-object-storage.appdomain.cloud/IBMDeveloperSkillsNetwork-DL0110EN-SkillsNetwork/Template/module%201/images/IDSNlogo.png\" width=\"300\" alt=\"cognitiveclass.ai logo\"  />\n",
        "</center>\n"
      ]
    },
    {
      "cell_type": "markdown",
      "metadata": {
        "id": "KOqpeF8kfW_4"
      },
      "source": [
        "<h1>Simple Dataset</h1> \n"
      ]
    },
    {
      "cell_type": "markdown",
      "metadata": {
        "id": "uiD3VaFzfW_4"
      },
      "source": [
        "<h2>Objective</h2><ul><li> How to create a dataset in pytorch.</li><li> How to perform transformations on the dataset.</li></ul> \n"
      ]
    },
    {
      "cell_type": "markdown",
      "metadata": {
        "id": "q7hRa7kYfW_5"
      },
      "source": [
        "<h2>Table of Contents</h2>\n"
      ]
    },
    {
      "cell_type": "markdown",
      "metadata": {
        "id": "7dA1gV40fW_5"
      },
      "source": [
        "<p>In this lab, you will construct a basic dataset by using PyTorch and learn how to apply basic transformations to it.</p> \n",
        "<ul>\n",
        "    <li><a href=\"#Simple_Dataset\">Simple dataset</a></li>\n",
        "    <li><a href=\"#Transforms\">Transforms</a></li>\n",
        "    <li><a href=\"#Compose\">Compose</a></li>\n",
        "</ul>\n",
        "<p>Estimated Time Needed: <strong>30 min</strong></p>\n",
        "<hr>\n"
      ]
    },
    {
      "cell_type": "markdown",
      "metadata": {
        "id": "AHSvtxmXfW_5"
      },
      "source": [
        "<h2>Preparation</h2>\n"
      ]
    },
    {
      "cell_type": "markdown",
      "metadata": {
        "id": "3PLUYptSfW_6"
      },
      "source": [
        "The following are the libraries we are going to use for this lab. The <code>torch.manual_seed()</code> is for forcing the random function to give the same number every time we try to recompile it.\n"
      ]
    },
    {
      "cell_type": "code",
      "metadata": {
        "colab": {
          "base_uri": "https://localhost:8080/"
        },
        "id": "JZEBkqpufW_6",
        "outputId": "bb41021d-4fbd-4bb3-91e1-6b63b3f938d1"
      },
      "source": [
        "# These are the libraries will be used for this lab.\n",
        "\n",
        "import torch\n",
        "from torch.utils.data import Dataset\n",
        "torch.manual_seed(1)"
      ],
      "execution_count": 1,
      "outputs": [
        {
          "output_type": "execute_result",
          "data": {
            "text/plain": [
              "<torch._C.Generator at 0x7f362e2ec390>"
            ]
          },
          "metadata": {
            "tags": []
          },
          "execution_count": 1
        }
      ]
    },
    {
      "cell_type": "markdown",
      "metadata": {
        "id": "AOvFvc3dfW_6"
      },
      "source": [
        "<!--Empty Space for separating topics-->\n"
      ]
    },
    {
      "cell_type": "markdown",
      "metadata": {
        "id": "R7rPhvOjfW_7"
      },
      "source": [
        "<h2 id=\"Simple_Dataset\">Simple dataset</h2>\n"
      ]
    },
    {
      "cell_type": "markdown",
      "metadata": {
        "id": "9ssmolqbfW_7"
      },
      "source": [
        "Let us try to create our own dataset class.\n"
      ]
    },
    {
      "cell_type": "code",
      "metadata": {
        "id": "JYqmwiNPfW_7"
      },
      "source": [
        "# Define class for dataset\n",
        "\n",
        "class toy_set(Dataset):\n",
        "    \n",
        "    # Constructor with defult values \n",
        "    def __init__(self, length = 100, transform = None):\n",
        "        self.len = length\n",
        "        self.x = 2 * torch.ones(length, 2)\n",
        "        self.y = torch.ones(length, 1)\n",
        "        self.transform = transform\n",
        "     \n",
        "    # Getter\n",
        "    def __getitem__(self, index):\n",
        "        sample = self.x[index], self.y[index]\n",
        "        if self.transform:\n",
        "            sample = self.transform(sample)     \n",
        "        return sample\n",
        "    \n",
        "    # Get Length\n",
        "    def __len__(self):\n",
        "        return self.len"
      ],
      "execution_count": 2,
      "outputs": []
    },
    {
      "cell_type": "markdown",
      "metadata": {
        "id": "coBQ3vDffW_7"
      },
      "source": [
        "Now, let us create our <code>toy_set</code> object, and find out the value on index 1 and the length of the inital dataset\n"
      ]
    },
    {
      "cell_type": "code",
      "metadata": {
        "id": "VCpt0up-fW_8"
      },
      "source": [
        "# Create Dataset Object. Find out the value on index 1. Find out the length of Dataset Object.\n",
        "\n",
        "our_dataset = toy_set()\n",
        "print(\"Our toy_set object: \", our_dataset)\n",
        "print(\"Value on index 0 of our toy_set object: \", our_dataset[0])\n",
        "print(\"Our toy_set length: \", len(our_dataset))"
      ],
      "execution_count": null,
      "outputs": []
    },
    {
      "cell_type": "markdown",
      "metadata": {
        "id": "Zp4VotNZfW_8"
      },
      "source": [
        "As a result, we can apply the same indexing convention as a <code>list</code>,\n",
        "and apply the fuction <code>len</code> on the <code>toy_set</code> object. We are able to customize the indexing and length method by <code>def __getitem__(self, index)</code> and <code>def __len__(self)</code>.\n"
      ]
    },
    {
      "cell_type": "markdown",
      "metadata": {
        "id": "sh_eRdBZfW_8"
      },
      "source": [
        "Now, let us print out the first 3 elements and assign them to x and y:\n"
      ]
    },
    {
      "cell_type": "code",
      "metadata": {
        "id": "D23wjCryfW_8"
      },
      "source": [
        "# Use loop to print out first 3 elements in dataset\n",
        "\n",
        "for i in range(3):\n",
        "    x, y=our_dataset[i]\n",
        "    print(\"index: \", i, '; x:', x, '; y:', y)"
      ],
      "execution_count": null,
      "outputs": []
    },
    {
      "cell_type": "markdown",
      "metadata": {
        "id": "6D0ozNAafW_8"
      },
      "source": [
        "The dataset object is an Iterable; as a result, we  apply the loop directly on the dataset object \n"
      ]
    },
    {
      "cell_type": "code",
      "metadata": {
        "id": "tT1IbAUTfW_9"
      },
      "source": [
        "for x,y in our_dataset:\n",
        "    print(' x:', x, 'y:', y)"
      ],
      "execution_count": null,
      "outputs": []
    },
    {
      "cell_type": "markdown",
      "metadata": {
        "id": "w1nnmfiBfW_9"
      },
      "source": [
        "<!--Empty Space for separating topics-->\n"
      ]
    },
    {
      "cell_type": "markdown",
      "metadata": {
        "id": "F_zHldRffW_9"
      },
      "source": [
        "<h3>Practice</h3>\n"
      ]
    },
    {
      "cell_type": "markdown",
      "metadata": {
        "id": "MUCDltA9fW_9"
      },
      "source": [
        "Try to create an <code>toy_set</code> object with length <b>50</b>. Print out the length of your object.\n"
      ]
    },
    {
      "cell_type": "code",
      "metadata": {
        "id": "2PdG8mBofW_9"
      },
      "source": [
        "# Practice: Create a new object with length 50, and print the length of object out.\n",
        "\n",
        "# Type your code here"
      ],
      "execution_count": null,
      "outputs": []
    },
    {
      "cell_type": "markdown",
      "metadata": {
        "id": "W3qBYUbZfW_9"
      },
      "source": [
        "Double-click <b>here</b> for the solution.\n",
        "\n",
        "<!-- \n",
        "my_dataset = toy_set(length = 50)\n",
        "print(\"My toy_set length: \", len(my_dataset))\n",
        "-->\n"
      ]
    },
    {
      "cell_type": "markdown",
      "metadata": {
        "id": "hU_xd_XtfW_-"
      },
      "source": [
        "<!--Empty Space for separating topics-->\n"
      ]
    },
    {
      "cell_type": "markdown",
      "metadata": {
        "id": "iArM2r-YfW_-"
      },
      "source": [
        "<h2 id=\"Transforms\">Transforms</h2>\n"
      ]
    },
    {
      "cell_type": "markdown",
      "metadata": {
        "id": "AR1BgjlOfW_-"
      },
      "source": [
        "You can also create a class for transforming the data. In this case, we will try to add 1 to x and multiply y by 2:\n"
      ]
    },
    {
      "cell_type": "code",
      "metadata": {
        "id": "aRKR-A3bfW_-"
      },
      "source": [
        "# Create tranform class add_mult\n",
        "\n",
        "class add_mult(object):\n",
        "    \n",
        "    # Constructor\n",
        "    def __init__(self, addx = 1, muly = 2):\n",
        "        self.addx = addx\n",
        "        self.muly = muly\n",
        "    \n",
        "    # Executor\n",
        "    def __call__(self, sample):\n",
        "        x = sample[0]\n",
        "        y = sample[1]\n",
        "        x = x + self.addx\n",
        "        y = y * self.muly\n",
        "        sample = x, y\n",
        "        return sample"
      ],
      "execution_count": 3,
      "outputs": []
    },
    {
      "cell_type": "markdown",
      "metadata": {
        "id": "xRFGG5wCfW_-"
      },
      "source": [
        "<!--Empty Space for separating topics-->\n"
      ]
    },
    {
      "cell_type": "markdown",
      "metadata": {
        "id": "NkBhZkPxfW_-"
      },
      "source": [
        "Now, create a transform object:.\n"
      ]
    },
    {
      "cell_type": "code",
      "metadata": {
        "id": "HZZe-dyEfW_-"
      },
      "source": [
        "# Create an add_mult transform object, and an toy_set object\n",
        "\n",
        "a_m = add_mult()\n",
        "data_set = toy_set()"
      ],
      "execution_count": 4,
      "outputs": []
    },
    {
      "cell_type": "markdown",
      "metadata": {
        "id": "_gAJFt13fW__"
      },
      "source": [
        "Assign the outputs of the original dataset to <code>x</code> and <code>y</code>. Then, apply the transform <code>add_mult</code> to the dataset and output the values as <code>x_</code> and <code>y_</code>, respectively: \n"
      ]
    },
    {
      "cell_type": "code",
      "metadata": {
        "colab": {
          "base_uri": "https://localhost:8080/"
        },
        "id": "qa2Wv5fQfW__",
        "outputId": "653d0dcf-ab83-491f-b82b-3b08cb294591"
      },
      "source": [
        "# Use loop to print out first 10 elements in dataset\n",
        "\n",
        "for i in range(10):\n",
        "    x, y = data_set[i]\n",
        "    print('Index: ', i, 'Original x: ', x, 'Original y: ', y)\n",
        "    x_, y_ = a_m(data_set[i])\n",
        "    print('Index: ', i, 'Transformed x_:', x_, 'Transformed y_:', y_)"
      ],
      "execution_count": 5,
      "outputs": [
        {
          "output_type": "stream",
          "text": [
            "Index:  0 Original x:  tensor([2., 2.]) Original y:  tensor([1.])\n",
            "Index:  0 Transformed x_: tensor([3., 3.]) Transformed y_: tensor([2.])\n",
            "Index:  1 Original x:  tensor([2., 2.]) Original y:  tensor([1.])\n",
            "Index:  1 Transformed x_: tensor([3., 3.]) Transformed y_: tensor([2.])\n",
            "Index:  2 Original x:  tensor([2., 2.]) Original y:  tensor([1.])\n",
            "Index:  2 Transformed x_: tensor([3., 3.]) Transformed y_: tensor([2.])\n",
            "Index:  3 Original x:  tensor([2., 2.]) Original y:  tensor([1.])\n",
            "Index:  3 Transformed x_: tensor([3., 3.]) Transformed y_: tensor([2.])\n",
            "Index:  4 Original x:  tensor([2., 2.]) Original y:  tensor([1.])\n",
            "Index:  4 Transformed x_: tensor([3., 3.]) Transformed y_: tensor([2.])\n",
            "Index:  5 Original x:  tensor([2., 2.]) Original y:  tensor([1.])\n",
            "Index:  5 Transformed x_: tensor([3., 3.]) Transformed y_: tensor([2.])\n",
            "Index:  6 Original x:  tensor([2., 2.]) Original y:  tensor([1.])\n",
            "Index:  6 Transformed x_: tensor([3., 3.]) Transformed y_: tensor([2.])\n",
            "Index:  7 Original x:  tensor([2., 2.]) Original y:  tensor([1.])\n",
            "Index:  7 Transformed x_: tensor([3., 3.]) Transformed y_: tensor([2.])\n",
            "Index:  8 Original x:  tensor([2., 2.]) Original y:  tensor([1.])\n",
            "Index:  8 Transformed x_: tensor([3., 3.]) Transformed y_: tensor([2.])\n",
            "Index:  9 Original x:  tensor([2., 2.]) Original y:  tensor([1.])\n",
            "Index:  9 Transformed x_: tensor([3., 3.]) Transformed y_: tensor([2.])\n"
          ],
          "name": "stdout"
        }
      ]
    },
    {
      "cell_type": "markdown",
      "metadata": {
        "id": "xH6RgBgLfW__"
      },
      "source": [
        "As the result, <code>x</code> has been added by 1 and y has been multiplied by 2, as <i>[2, 2] + 1 = [3, 3]</i> and <i>[1] x 2 = [2]</i>\n"
      ]
    },
    {
      "cell_type": "markdown",
      "metadata": {
        "id": "mbjLmDwJfW__"
      },
      "source": [
        "<!--Empty Space for separating topics-->\n"
      ]
    },
    {
      "cell_type": "markdown",
      "metadata": {
        "id": "PqXQRSiWfW__"
      },
      "source": [
        "We can apply the transform object every time we create a new <code>toy_set object</code>? Remember, we have the constructor in toy_set class with the parameter <code>transform = None</code>.\n",
        "When we create a new object using the constructor, we can assign the transform object to the parameter transform, as the following code demonstrates.\n"
      ]
    },
    {
      "cell_type": "code",
      "metadata": {
        "id": "Xa0yhrRNfW__"
      },
      "source": [
        "# Create a new data_set object with add_mult object as transform\n",
        "\n",
        "cust_data_set = toy_set(transform = a_m)"
      ],
      "execution_count": 6,
      "outputs": []
    },
    {
      "cell_type": "markdown",
      "metadata": {
        "id": "vMMEcr2ufXAA"
      },
      "source": [
        "This applied <code>a_m</code> object (a transform method) to every element in <code>cust_data_set</code> as initialized. Let us print out the first 10 elements in <code>cust_data_set</code> in order to see whether the <code>a_m</code> applied on <code>cust_data_set</code>\n"
      ]
    },
    {
      "cell_type": "code",
      "metadata": {
        "colab": {
          "base_uri": "https://localhost:8080/"
        },
        "id": "KA7Gnf1MfXAA",
        "outputId": "fd2b4af2-c693-4f1f-8967-4f7b00747a2b"
      },
      "source": [
        "# Use loop to print out first 10 elements in dataset\n",
        "\n",
        "for i in range(10):\n",
        "    x, y = data_set[i]\n",
        "    print('Index: ', i, 'Original x: ', x, 'Original y: ', y)\n",
        "    x_, y_ = cust_data_set[i]\n",
        "    print('Index: ', i, 'Transformed x_:', x_, 'Transformed y_:', y_)"
      ],
      "execution_count": 7,
      "outputs": [
        {
          "output_type": "stream",
          "text": [
            "Index:  0 Original x:  tensor([2., 2.]) Original y:  tensor([1.])\n",
            "Index:  0 Transformed x_: tensor([3., 3.]) Transformed y_: tensor([2.])\n",
            "Index:  1 Original x:  tensor([2., 2.]) Original y:  tensor([1.])\n",
            "Index:  1 Transformed x_: tensor([3., 3.]) Transformed y_: tensor([2.])\n",
            "Index:  2 Original x:  tensor([2., 2.]) Original y:  tensor([1.])\n",
            "Index:  2 Transformed x_: tensor([3., 3.]) Transformed y_: tensor([2.])\n",
            "Index:  3 Original x:  tensor([2., 2.]) Original y:  tensor([1.])\n",
            "Index:  3 Transformed x_: tensor([3., 3.]) Transformed y_: tensor([2.])\n",
            "Index:  4 Original x:  tensor([2., 2.]) Original y:  tensor([1.])\n",
            "Index:  4 Transformed x_: tensor([3., 3.]) Transformed y_: tensor([2.])\n",
            "Index:  5 Original x:  tensor([2., 2.]) Original y:  tensor([1.])\n",
            "Index:  5 Transformed x_: tensor([3., 3.]) Transformed y_: tensor([2.])\n",
            "Index:  6 Original x:  tensor([2., 2.]) Original y:  tensor([1.])\n",
            "Index:  6 Transformed x_: tensor([3., 3.]) Transformed y_: tensor([2.])\n",
            "Index:  7 Original x:  tensor([2., 2.]) Original y:  tensor([1.])\n",
            "Index:  7 Transformed x_: tensor([3., 3.]) Transformed y_: tensor([2.])\n",
            "Index:  8 Original x:  tensor([2., 2.]) Original y:  tensor([1.])\n",
            "Index:  8 Transformed x_: tensor([3., 3.]) Transformed y_: tensor([2.])\n",
            "Index:  9 Original x:  tensor([2., 2.]) Original y:  tensor([1.])\n",
            "Index:  9 Transformed x_: tensor([3., 3.]) Transformed y_: tensor([2.])\n"
          ],
          "name": "stdout"
        }
      ]
    },
    {
      "cell_type": "markdown",
      "metadata": {
        "id": "913VUk_gfXAA"
      },
      "source": [
        "The result is the same as the previous method.\n"
      ]
    },
    {
      "cell_type": "markdown",
      "metadata": {
        "id": "o3xafy0DfXAA"
      },
      "source": [
        "<!--Empty Space for separating topics-->\n"
      ]
    },
    {
      "cell_type": "code",
      "metadata": {
        "id": "d2nWg0TgfXAB"
      },
      "source": [
        "# Practice: Construct your own my_add_mult transform. Apply my_add_mult on a new toy_set object. Print out the first three elements from the transformed dataset.\n",
        "\n",
        "# Type your code here."
      ],
      "execution_count": null,
      "outputs": []
    },
    {
      "cell_type": "markdown",
      "metadata": {
        "id": "U5gAv53LfXAB"
      },
      "source": [
        "Double-click <b>here</b> for the solution.\n",
        "\n",
        "<!-- \n",
        "class my_add_mult(object):   \n",
        "    def __init__(self, add = 2, mul = 10):\n",
        "        self.add=add\n",
        "        self.mul=mul\n",
        "        \n",
        "    def __call__(self, sample):\n",
        "        x = sample[0]\n",
        "        y = sample[1]\n",
        "        x = x + self.add\n",
        "        y = y + self.add\n",
        "        x = x * self.mul\n",
        "        y = y * self.mul\n",
        "        sample = x, y\n",
        "        return sample\n",
        "        \n",
        "       \n",
        "my_dataset = toy_set(transform = my_add_mult())\n",
        "for i in range(3):\n",
        "    x_, y_ = my_dataset[i]\n",
        "    print('Index: ', i, 'Transformed x_:', x_, 'Transformed y_:', y_)\n",
        "    \n",
        " -->\n"
      ]
    },
    {
      "cell_type": "markdown",
      "metadata": {
        "id": "jA3odsigfXAB"
      },
      "source": [
        "<!--Empty Space for separating topics-->\n"
      ]
    },
    {
      "cell_type": "markdown",
      "metadata": {
        "id": "BLwBsM7sfXAB"
      },
      "source": [
        "<h2 id=\"Compose\">Compose</h2>\n"
      ]
    },
    {
      "cell_type": "markdown",
      "metadata": {
        "id": "8JPPIYXXfXAB"
      },
      "source": [
        "You can compose multiple transforms on the dataset object. First, import <code>transforms</code> from <code>torchvision</code>:\n"
      ]
    },
    {
      "cell_type": "code",
      "metadata": {
        "id": "_PDKyh3wfXAB"
      },
      "source": [
        "# Run the command below when you do not have torchvision installed\n",
        "# !conda install -y torchvision\n",
        "\n",
        "from torchvision import transforms"
      ],
      "execution_count": 11,
      "outputs": []
    },
    {
      "cell_type": "markdown",
      "metadata": {
        "id": "hT_Imo0IfXAC"
      },
      "source": [
        "Then, create a new transform class that multiplies each of the elements by 100: \n"
      ]
    },
    {
      "cell_type": "code",
      "metadata": {
        "id": "p0yK_47afXAC"
      },
      "source": [
        "# Create tranform class mult\n",
        "\n",
        "class mult(object):\n",
        "    \n",
        "    # Constructor\n",
        "    def __init__(self, mult = 100):\n",
        "        self.mult = mult\n",
        "        \n",
        "    # Executor\n",
        "    def __call__(self, sample):\n",
        "        x = sample[0]\n",
        "        y = sample[1]\n",
        "        x = x * self.mult\n",
        "        y = y * self.mult\n",
        "        sample = x, y\n",
        "        return sample"
      ],
      "execution_count": 9,
      "outputs": []
    },
    {
      "cell_type": "markdown",
      "metadata": {
        "id": "2dT0yjFUfXAC"
      },
      "source": [
        "Now let us try to combine the transforms <code>add_mult</code> and <code>mult</code>\n"
      ]
    },
    {
      "cell_type": "code",
      "metadata": {
        "colab": {
          "base_uri": "https://localhost:8080/"
        },
        "id": "ISjKqj4AfXAC",
        "outputId": "295bbb05-85c3-4867-a989-670bd10d4111"
      },
      "source": [
        "# Combine the add_mult() and mult()\n",
        "\n",
        "data_transform = transforms.Compose([add_mult(), mult()])\n",
        "print(\"The combination of transforms (Compose): \", data_transform)\n"
      ],
      "execution_count": 12,
      "outputs": [
        {
          "output_type": "stream",
          "text": [
            "The combination of transforms (Compose):  Compose(\n",
            "    <__main__.add_mult object at 0x7f362d0c9cd0>\n",
            "    <__main__.mult object at 0x7f362d0c9d10>\n",
            ")\n"
          ],
          "name": "stdout"
        }
      ]
    },
    {
      "cell_type": "markdown",
      "metadata": {
        "id": "d-P6CRckfXAC"
      },
      "source": [
        "The new <code>Compose</code> object will perform each transform concurrently as shown in this figure:\n"
      ]
    },
    {
      "cell_type": "markdown",
      "metadata": {
        "id": "3gjzbjkKfXAC"
      },
      "source": [
        "<img src=\"https://s3-api.us-geo.objectstorage.softlayer.net/cf-courses-data/CognitiveClass/DL0110EN/notebook_images%20/chapter%201/1.3.1_trasform.png\" width=\"500\" alt=\"Compose PyTorch\">\n"
      ]
    },
    {
      "cell_type": "code",
      "metadata": {
        "colab": {
          "base_uri": "https://localhost:8080/"
        },
        "id": "Sm3Fsh-BfXAC",
        "outputId": "6090a0c9-909b-4427-8284-9687628d045e"
      },
      "source": [
        "data_transform(data_set[0])"
      ],
      "execution_count": 13,
      "outputs": [
        {
          "output_type": "execute_result",
          "data": {
            "text/plain": [
              "(tensor([300., 300.]), tensor([200.]))"
            ]
          },
          "metadata": {
            "tags": []
          },
          "execution_count": 13
        }
      ]
    },
    {
      "cell_type": "code",
      "metadata": {
        "colab": {
          "base_uri": "https://localhost:8080/"
        },
        "id": "Tf0xPua8fXAD",
        "outputId": "5153ddff-20e1-44a5-b48b-8f05279cc018"
      },
      "source": [
        "x,y=data_set[0]\n",
        "x_,y_=data_transform(data_set[0])\n",
        "print( 'Original x: ', x, 'Original y: ', y)\n",
        "\n",
        "print( 'Transformed x_:', x_, 'Transformed y_:', y_)"
      ],
      "execution_count": 14,
      "outputs": [
        {
          "output_type": "stream",
          "text": [
            "Original x:  tensor([2., 2.]) Original y:  tensor([1.])\n",
            "Transformed x_: tensor([300., 300.]) Transformed y_: tensor([200.])\n"
          ],
          "name": "stdout"
        }
      ]
    },
    {
      "cell_type": "markdown",
      "metadata": {
        "id": "EHC-TsEOfXAD"
      },
      "source": [
        "Now we can pass the new <code>Compose</code> object (The combination of methods <code>add_mult()</code> and <code>mult</code>) to the constructor for creating <code>toy_set</code> object.\n"
      ]
    },
    {
      "cell_type": "code",
      "metadata": {
        "id": "dGszbyvtfXAD"
      },
      "source": [
        "# Create a new toy_set object with compose object as transform\n",
        "\n",
        "compose_data_set = toy_set(transform = data_transform)"
      ],
      "execution_count": 15,
      "outputs": []
    },
    {
      "cell_type": "markdown",
      "metadata": {
        "id": "djzDwL3GfXAD"
      },
      "source": [
        "Let us print out the first 3 elements in different <code>toy_set</code> datasets in order to compare the output after different transforms have been applied: \n"
      ]
    },
    {
      "cell_type": "code",
      "metadata": {
        "colab": {
          "base_uri": "https://localhost:8080/"
        },
        "id": "wK_kRHtwfXAD",
        "outputId": "2be87652-e083-4865-9523-e00e1e2c83fc"
      },
      "source": [
        "# Use loop to print out first 3 elements in dataset\n",
        "\n",
        "for i in range(3):\n",
        "    x, y = data_set[i]\n",
        "    print('Index: ', i, 'Original x: ', x, 'Original y: ', y)\n",
        "    x_, y_ = cust_data_set[i]\n",
        "    print('Index: ', i, 'Transformed x_:', x_, 'Transformed y_:', y_)\n",
        "    x_co, y_co = compose_data_set[i]\n",
        "    print('Index: ', i, 'Compose Transformed x_co: ', x_co ,'Compose Transformed y_co: ',y_co)"
      ],
      "execution_count": 16,
      "outputs": [
        {
          "output_type": "stream",
          "text": [
            "Index:  0 Original x:  tensor([2., 2.]) Original y:  tensor([1.])\n",
            "Index:  0 Transformed x_: tensor([3., 3.]) Transformed y_: tensor([2.])\n",
            "Index:  0 Compose Transformed x_co:  tensor([300., 300.]) Compose Transformed y_co:  tensor([200.])\n",
            "Index:  1 Original x:  tensor([2., 2.]) Original y:  tensor([1.])\n",
            "Index:  1 Transformed x_: tensor([3., 3.]) Transformed y_: tensor([2.])\n",
            "Index:  1 Compose Transformed x_co:  tensor([300., 300.]) Compose Transformed y_co:  tensor([200.])\n",
            "Index:  2 Original x:  tensor([2., 2.]) Original y:  tensor([1.])\n",
            "Index:  2 Transformed x_: tensor([3., 3.]) Transformed y_: tensor([2.])\n",
            "Index:  2 Compose Transformed x_co:  tensor([300., 300.]) Compose Transformed y_co:  tensor([200.])\n"
          ],
          "name": "stdout"
        }
      ]
    },
    {
      "cell_type": "markdown",
      "metadata": {
        "id": "IxodPLGufXAD"
      },
      "source": [
        "Let us see what happened on index 0. The original value of <code>x</code> is <i>[2, 2]</i>, and the original value of <code>y</code> is [1]. If we only applied <code>add_mult()</code> on the original dataset, then the <code>x</code> became <i>[3, 3]</i> and y became <i>[2]</i>. Now let us see what is the value after applied both <code>add_mult()</code> and <code>mult()</code>. The result of x is <i>[300, 300]</i> and y is <i>[200]</i>. The calculation which is equavalent to the compose is <i> x = ([2, 2] + 1) x 100 = [300, 300], y = ([1] x 2) x 100 = 200</i>\n"
      ]
    },
    {
      "cell_type": "markdown",
      "metadata": {
        "id": "W6NRY6b3fXAE"
      },
      "source": [
        "<h3>Practice</h3>\n"
      ]
    },
    {
      "cell_type": "markdown",
      "metadata": {
        "id": "ElbX0vOifXAE"
      },
      "source": [
        "Try to combine the <code>mult()</code> and <code>add_mult()</code> as <code>mult()</code> to be executed first. And apply this on a new <code>toy_set</code> dataset. Print out the first 3 elements in the transformed dataset.\n"
      ]
    },
    {
      "cell_type": "code",
      "metadata": {
        "id": "eOBJOMrbfXAE"
      },
      "source": [
        "# Practice: Make a compose as mult() execute first and then add_mult(). Apply the compose on toy_set dataset. Print out the first 3 elements in the transformed dataset.\n",
        "\n",
        "# Type your code here."
      ],
      "execution_count": null,
      "outputs": []
    },
    {
      "cell_type": "markdown",
      "metadata": {
        "id": "jmxImHORfXAE"
      },
      "source": [
        "Double-click <b>here</b> for the solution.\n",
        "\n",
        "<!--\n",
        "my_compose = transforms.Compose([mult(), add_mult()])\n",
        "my_transformed_dataset = toy_set(transform = my_compose)\n",
        "for i in range(3):\n",
        "    x_, y_ = my_transformed_dataset[i]\n",
        "    print('Index: ', i, 'Transformed x_:', x_, 'Transformed y_:', y_)\n",
        "-->\n"
      ]
    },
    {
      "cell_type": "markdown",
      "metadata": {
        "id": "bIxZbwH4fXAE"
      },
      "source": [
        "<a href=\"https://dataplatform.cloud.ibm.com/registration/stepone?context=cpdaas&apps=data_science_experience,watson_machine_learning\"><img src=\"https://cf-courses-data.s3.us.cloud-object-storage.appdomain.cloud/IBMDeveloperSkillsNetwork-DL0110EN-SkillsNetwork/Template/module%201/images/Watson_Studio.png\"/></a>\n"
      ]
    },
    {
      "cell_type": "markdown",
      "metadata": {
        "id": "SiNAt1E6fXAE"
      },
      "source": [
        "<h2>About the Authors:</h2> \n",
        "\n",
        "<a href=\"https://www.linkedin.com/in/joseph-s-50398b136/\">Joseph Santarcangelo</a> has a PhD in Electrical Engineering, his research focused on using machine learning, signal processing, and computer vision to determine how videos impact human cognition. Joseph has been working for IBM since he completed his PhD.\n"
      ]
    },
    {
      "cell_type": "markdown",
      "metadata": {
        "id": "B6HvmrrjfXAE"
      },
      "source": [
        "Other contributors: <a href=\"https://www.linkedin.com/in/michelleccarey/\">Michelle Carey</a>, <a href=\"www.linkedin.com/in/jiahui-mavis-zhou-a4537814a\">Mavis Zhou</a> \n"
      ]
    },
    {
      "cell_type": "markdown",
      "metadata": {
        "id": "0BoSxW46fXAF"
      },
      "source": [
        "## Change Log\n",
        "\n",
        "| Date (YYYY-MM-DD) | Version | Changed By | Change Description                                          |\n",
        "| ----------------- | ------- | ---------- | ----------------------------------------------------------- |\n",
        "| 2020-09-21        | 2.0     | Shubham    | Migrated Lab to Markdown and added to course repo in GitLab |\n"
      ]
    },
    {
      "cell_type": "markdown",
      "metadata": {
        "id": "GoPO1Lr7fXAF"
      },
      "source": [
        "<hr>\n"
      ]
    },
    {
      "cell_type": "markdown",
      "metadata": {
        "id": "HnV12YlIfXAF"
      },
      "source": [
        "## <h3 align=\"center\"> © IBM Corporation 2020. All rights reserved. <h3/>\n"
      ]
    }
  ]
}