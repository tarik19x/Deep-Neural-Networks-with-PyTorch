{
  "nbformat": 4,
  "nbformat_minor": 0,
  "metadata": {
    "kernelspec": {
      "display_name": "Python 3",
      "language": "python",
      "name": "python3"
    },
    "language_info": {
      "codemirror_mode": {
        "name": "ipython",
        "version": 3
      },
      "file_extension": ".py",
      "mimetype": "text/x-python",
      "name": "python",
      "nbconvert_exporter": "python",
      "pygments_lexer": "ipython3",
      "version": "3.7.6"
    },
    "colab": {
      "name": "derivatives_and_Graphs_in_Pytorch.ipynb",
      "provenance": [],
      "include_colab_link": true
    }
  },
  "cells": [
    {
      "cell_type": "markdown",
      "metadata": {
        "id": "view-in-github",
        "colab_type": "text"
      },
      "source": [
        "<a href=\"https://colab.research.google.com/github/tarik19x/PytorchBasic/blob/main/Tensors/derivatives_and_Graphs_in_Pytorch.ipynb\" target=\"_parent\"><img src=\"https://colab.research.google.com/assets/colab-badge.svg\" alt=\"Open In Colab\"/></a>"
      ]
    },
    {
      "cell_type": "markdown",
      "metadata": {
        "id": "GGXV-CXFVu5P"
      },
      "source": [
        "<center>\n",
        "    <img src=\"https://cf-courses-data.s3.us.cloud-object-storage.appdomain.cloud/IBMDeveloperSkillsNetwork-DL0110EN-SkillsNetwork/Template/module%201/images/IDSNlogo.png\" width=\"300\" alt=\"cognitiveclass.ai logo\"  />\n",
        "</center>\n"
      ]
    },
    {
      "cell_type": "markdown",
      "metadata": {
        "id": "9abyjoZKVu5U"
      },
      "source": [
        "<h1>Differentiation in PyTorch</h1> \n"
      ]
    },
    {
      "cell_type": "markdown",
      "metadata": {
        "id": "pGv-ExJOVu5V"
      },
      "source": [
        "<h2>Objective</h2><ul><li> How to perform differentiation in pytorch.</li></ul> \n"
      ]
    },
    {
      "cell_type": "markdown",
      "metadata": {
        "id": "srlr7O2sVu5V"
      },
      "source": [
        "<h2>Table of Contents</h2>\n",
        "\n",
        "<p>In this lab, you will learn the basics of differentiation.</p> \n",
        "\n",
        "<ul>\n",
        "    <li><a href=\"#Derivative\">Derivatives</a></li>\n",
        "    <li><a href=\"#Partial_Derivative\">Partial Derivatives</a></li>\n",
        "</ul>\n",
        "\n",
        "<p>Estimated Time Needed: <strong>25 min</strong></p>\n",
        "<hr>\n"
      ]
    },
    {
      "cell_type": "markdown",
      "metadata": {
        "id": "Lz3OfCfCVu5V"
      },
      "source": [
        "<h2>Preparation</h2>\n"
      ]
    },
    {
      "cell_type": "markdown",
      "metadata": {
        "id": "GmLfPjW9Vu5V"
      },
      "source": [
        "The following are the libraries we are going to use for this lab.\n"
      ]
    },
    {
      "cell_type": "code",
      "metadata": {
        "id": "kuJD-vRxVu5W"
      },
      "source": [
        "# These are the libraries will be useing for this lab.\n",
        "\n",
        "import torch \n",
        "import matplotlib.pylab as plt\n"
      ],
      "execution_count": null,
      "outputs": []
    },
    {
      "cell_type": "markdown",
      "metadata": {
        "id": "6MBad4SpVu5W"
      },
      "source": [
        "<!--Empty Space for separating topics-->\n"
      ]
    },
    {
      "cell_type": "markdown",
      "metadata": {
        "id": "P-i1vB1OVu5W"
      },
      "source": [
        "<h2 id=\"Derivative\">Derivatives</h2>\n"
      ]
    },
    {
      "cell_type": "markdown",
      "metadata": {
        "id": "fjfpq0VfVu5W"
      },
      "source": [
        "Let us create the tensor <code>x</code> and set the parameter <code>requires_grad</code> to true because you are going to take the derivative of the tensor.\n"
      ]
    },
    {
      "cell_type": "code",
      "metadata": {
        "id": "4caFQU9-Vu5X"
      },
      "source": [
        "# Create a tensor x\n",
        "\n",
        "x = torch.tensor(2.0, requires_grad = True)\n",
        "print(\"The tensor x: \", x)"
      ],
      "execution_count": null,
      "outputs": []
    },
    {
      "cell_type": "markdown",
      "metadata": {
        "id": "XA3Ek2E_Vu5X"
      },
      "source": [
        "Then let us create a tensor according to the equation $ y=x^2 $.\n"
      ]
    },
    {
      "cell_type": "code",
      "metadata": {
        "jupyter": {
          "outputs_hidden": false
        },
        "id": "jaDKxQv9Vu5X"
      },
      "source": [
        "# Create a tensor y according to y = x^2\n",
        "\n",
        "y = x ** 2\n",
        "print(\"The result of y = x^2: \", y)"
      ],
      "execution_count": null,
      "outputs": []
    },
    {
      "cell_type": "markdown",
      "metadata": {
        "id": "0Q0nUFdOVu5X"
      },
      "source": [
        "Then let us take the derivative with respect x at x = 2\n"
      ]
    },
    {
      "cell_type": "code",
      "metadata": {
        "jupyter": {
          "outputs_hidden": false
        },
        "id": "a59rGipIVu5X"
      },
      "source": [
        "# Take the derivative. Try to print out the derivative at the value x = 2\n",
        "\n",
        "y.backward()\n",
        "print(\"The dervative at x = 2: \", x.grad)"
      ],
      "execution_count": null,
      "outputs": []
    },
    {
      "cell_type": "markdown",
      "metadata": {
        "id": "cCSkz-1GVu5Y"
      },
      "source": [
        "The preceding lines perform the following operation: \n"
      ]
    },
    {
      "cell_type": "markdown",
      "metadata": {
        "id": "Bfr4Z3J1Vu5Y"
      },
      "source": [
        "$\\frac{\\mathrm{dy(x)}}{\\mathrm{dx}}=2x$\n"
      ]
    },
    {
      "cell_type": "markdown",
      "metadata": {
        "id": "jjXDMVrrVu5Y"
      },
      "source": [
        "$\\frac{\\mathrm{dy(x=2)}}{\\mathrm{dx}}=2(2)=4$\n"
      ]
    },
    {
      "cell_type": "code",
      "metadata": {
        "id": "2_WBGLaEVu5Y"
      },
      "source": [
        ""
      ],
      "execution_count": null,
      "outputs": []
    },
    {
      "cell_type": "code",
      "metadata": {
        "id": "bv6OazVMVu5Y"
      },
      "source": [
        "print('data:',x.data)\n",
        "print('grad_fn:',x.grad_fn)\n",
        "print('grad:',x.grad)\n",
        "print(\"is_leaf:\",x.is_leaf)\n",
        "print(\"requires_grad:\",x.requires_grad)"
      ],
      "execution_count": null,
      "outputs": []
    },
    {
      "cell_type": "code",
      "metadata": {
        "id": "ecu2uzQXVu5Y"
      },
      "source": [
        "print('data:',y.data)\n",
        "print('grad_fn:',y.grad_fn)\n",
        "print('grad:',y.grad)\n",
        "print(\"is_leaf:\",y.is_leaf)\n",
        "print(\"requires_grad:\",y.requires_grad)"
      ],
      "execution_count": null,
      "outputs": []
    },
    {
      "cell_type": "markdown",
      "metadata": {
        "id": "PZVStcomVu5Z"
      },
      "source": [
        "Let us try to calculate the derivative for a more complicated function. \n"
      ]
    },
    {
      "cell_type": "code",
      "metadata": {
        "id": "pzsJyTkdVu5Z"
      },
      "source": [
        "# Calculate the y = x^2 + 2x + 1, then find the derivative \n",
        "\n",
        "x = torch.tensor(2.0, requires_grad = True)\n",
        "y = x ** 2 + 2 * x + 1\n",
        "print(\"The result of y = x^2 + 2x + 1: \", y)\n",
        "y.backward()\n",
        "print(\"The dervative at x = 2: \", x.grad)"
      ],
      "execution_count": null,
      "outputs": []
    },
    {
      "cell_type": "markdown",
      "metadata": {
        "id": "k_cqZ-4bVu5Z"
      },
      "source": [
        "The function is in the following form:\n",
        "$y=x^{2}+2x+1$\n"
      ]
    },
    {
      "cell_type": "markdown",
      "metadata": {
        "id": "C7gnBkEIVu5Z"
      },
      "source": [
        "The derivative is given by:\n"
      ]
    },
    {
      "cell_type": "markdown",
      "metadata": {
        "id": "3iO9LiAFVu5Z"
      },
      "source": [
        "$\\frac{\\mathrm{dy(x)}}{\\mathrm{dx}}=2x+2$\n",
        "\n",
        "$\\frac{\\mathrm{dy(x=2)}}{\\mathrm{dx}}=2(2)+2=6$\n"
      ]
    },
    {
      "cell_type": "markdown",
      "metadata": {
        "id": "ZDEhon2zVu5Z"
      },
      "source": [
        "<!--Empty Space for separating topics-->\n"
      ]
    },
    {
      "cell_type": "markdown",
      "metadata": {
        "id": "fR-qKxRaVu5Z"
      },
      "source": [
        "<h3>Practice</h3>\n"
      ]
    },
    {
      "cell_type": "markdown",
      "metadata": {
        "id": "drJeot6LVu5a"
      },
      "source": [
        "Determine the derivative of $ y = 2x^3+x $ at $x=1$\n"
      ]
    },
    {
      "cell_type": "code",
      "metadata": {
        "id": "nvqW5h6OVu5a"
      },
      "source": [
        "# Practice: Calculate the derivative of y = 2x^3 + x at x = 1\n",
        "\n",
        "# Type your code here"
      ],
      "execution_count": null,
      "outputs": []
    },
    {
      "cell_type": "markdown",
      "metadata": {
        "id": "GHkyJuqnVu5a"
      },
      "source": [
        "Double-click <b>here</b> for the solution.\n",
        "\n",
        "<!-- \n",
        "x = torch.tensor(1.0, requires_grad=True)\n",
        "y = 2 * x ** 3 + x\n",
        "y.backward()\n",
        "print(\"The derivative result: \", x.grad)\n",
        " -->\n"
      ]
    },
    {
      "cell_type": "markdown",
      "metadata": {
        "id": "8UnWUlZRVu5a"
      },
      "source": [
        "<!--Empty Space for separating topics-->\n"
      ]
    },
    {
      "cell_type": "markdown",
      "metadata": {
        "id": "Jw_10AVdVu5a"
      },
      "source": [
        " We can implement our own custom autograd Functions by subclassing\n",
        "    torch.autograd.Function and implementing the forward and backward passes\n",
        "    which operate on Tensors\n"
      ]
    },
    {
      "cell_type": "code",
      "metadata": {
        "id": "lgvjovQoVu5a"
      },
      "source": [
        "class SQ(torch.autograd.Function):\n",
        "\n",
        "\n",
        "    @staticmethod\n",
        "    def forward(ctx,i):\n",
        "        \"\"\"\n",
        "        In the forward pass we receive a Tensor containing the input and return\n",
        "        a Tensor containing the output. ctx is a context object that can be used\n",
        "        to stash information for backward computation. You can cache arbitrary\n",
        "        objects for use in the backward pass using the ctx.save_for_backward method.\n",
        "        \"\"\"\n",
        "        result=i**2\n",
        "        ctx.save_for_backward(i)\n",
        "        return result\n",
        "\n",
        "    @staticmethod\n",
        "    def backward(ctx, grad_output):\n",
        "        \"\"\"\n",
        "        In the backward pass we receive a Tensor containing the gradient of the loss\n",
        "        with respect to the output, and we need to compute the gradient of the loss\n",
        "        with respect to the input.\n",
        "        \"\"\"\n",
        "        i, = ctx.saved_tensors\n",
        "        grad_output = 2*i\n",
        "        return grad_output"
      ],
      "execution_count": null,
      "outputs": []
    },
    {
      "cell_type": "markdown",
      "metadata": {
        "id": "vhc-PjsKVu5b"
      },
      "source": [
        "We can apply it the function  \n"
      ]
    },
    {
      "cell_type": "code",
      "metadata": {
        "id": "f8pi8PxUVu5b"
      },
      "source": [
        "x=torch.tensor(2.0,requires_grad=True )\n",
        "sq=SQ.apply\n",
        "\n",
        "y=sq(x)\n",
        "y\n",
        "print(y.grad_fn)\n",
        "y.backward()\n",
        "x.grad"
      ],
      "execution_count": null,
      "outputs": []
    },
    {
      "cell_type": "markdown",
      "metadata": {
        "id": "PNsiVkbDVu5b"
      },
      "source": [
        "<h2 id=\"Partial_Derivative\">Partial Derivatives</h2>\n"
      ]
    },
    {
      "cell_type": "markdown",
      "metadata": {
        "id": "av8sLBRDVu5b"
      },
      "source": [
        "We can also calculate <b>Partial Derivatives</b>. Consider the function: $f(u,v)=vu+u^{2}$\n"
      ]
    },
    {
      "cell_type": "markdown",
      "metadata": {
        "id": "dyjx6NsOVu5b"
      },
      "source": [
        "Let us create <code>u</code> tensor, <code>v</code> tensor and  <code>f</code> tensor\n"
      ]
    },
    {
      "cell_type": "code",
      "metadata": {
        "id": "pSX5t9UfVu5b"
      },
      "source": [
        "# Calculate f(u, v) = v * u + u^2 at u = 1, v = 2\n",
        "\n",
        "u = torch.tensor(1.0,requires_grad=True)\n",
        "v = torch.tensor(2.0,requires_grad=True)\n",
        "f = u * v + u ** 2\n",
        "print(\"The result of v * u + u^2: \", f)"
      ],
      "execution_count": null,
      "outputs": []
    },
    {
      "cell_type": "markdown",
      "metadata": {
        "id": "A1HYjuwXVu5b"
      },
      "source": [
        "This is equivalent to the following: \n"
      ]
    },
    {
      "cell_type": "markdown",
      "metadata": {
        "id": "pdod9nXAVu5c"
      },
      "source": [
        "$f(u=1,v=2)=(2)(1)+1^{2}=3$\n"
      ]
    },
    {
      "cell_type": "markdown",
      "metadata": {
        "id": "ru2q-O85Vu5c"
      },
      "source": [
        "<!--Empty Space for separating topics-->\n"
      ]
    },
    {
      "cell_type": "markdown",
      "metadata": {
        "id": "qshGzgYLVu5c"
      },
      "source": [
        "Now let us take the derivative with respect to <code>u</code>:\n"
      ]
    },
    {
      "cell_type": "code",
      "metadata": {
        "id": "6BDe6t4aVu5c"
      },
      "source": [
        "# Calculate the derivative with respect to u\n",
        "\n",
        "f.backward()\n",
        "print(\"The partial derivative with respect to u: \", u.grad)"
      ],
      "execution_count": null,
      "outputs": []
    },
    {
      "cell_type": "markdown",
      "metadata": {
        "id": "CjpfDNwJVu5c"
      },
      "source": [
        "the expression is given by:\n"
      ]
    },
    {
      "cell_type": "markdown",
      "metadata": {
        "id": "e_RWYYDWVu5c"
      },
      "source": [
        "$\\frac{\\mathrm{\\partial f(u,v)}}{\\partial {u}}=v+2u$\n",
        "\n",
        "$\\frac{\\mathrm{\\partial f(u=1,v=2)}}{\\partial {u}}=2+2(1)=4$\n"
      ]
    },
    {
      "cell_type": "markdown",
      "metadata": {
        "id": "Ia05CgHrVu5c"
      },
      "source": [
        "<!--Empty Space for separating topics-->\n"
      ]
    },
    {
      "cell_type": "markdown",
      "metadata": {
        "id": "mt8Ussg8Vu5c"
      },
      "source": [
        "Now, take the derivative with respect to <code>v</code>:\n"
      ]
    },
    {
      "cell_type": "code",
      "metadata": {
        "id": "uUNz8Bo2Vu5d"
      },
      "source": [
        "# Calculate the derivative with respect to v\n",
        "\n",
        "print(\"The partial derivative with respect to u: \", v.grad)"
      ],
      "execution_count": null,
      "outputs": []
    },
    {
      "cell_type": "markdown",
      "metadata": {
        "id": "uzsh8RcrVu5d"
      },
      "source": [
        "The equation is given by:\n"
      ]
    },
    {
      "cell_type": "markdown",
      "metadata": {
        "id": "zHd4sfmgVu5d"
      },
      "source": [
        "$\\frac{\\mathrm{\\partial f(u,v)}}{\\partial {v}}=u$\n",
        "\n",
        "$\\frac{\\mathrm{\\partial f(u=1,v=2)}}{\\partial {v}}=1$\n"
      ]
    },
    {
      "cell_type": "markdown",
      "metadata": {
        "id": "tLqdlbDZVu5d"
      },
      "source": [
        "<!--Empty Space for separating topics-->\n"
      ]
    },
    {
      "cell_type": "markdown",
      "metadata": {
        "id": "5PR7oYhCVu5d"
      },
      "source": [
        "Calculate the derivative with respect to a function with multiple values as follows. You use the sum trick to produce a scalar valued function and then take the gradient: \n"
      ]
    },
    {
      "cell_type": "code",
      "metadata": {
        "id": "AVJUDx3KVu5d"
      },
      "source": [
        "# Calculate the derivative with multiple values\n",
        "\n",
        "x = torch.linspace(-10, 10, 10, requires_grad = True)\n",
        "Y = x ** 2\n",
        "y = torch.sum(x ** 2)"
      ],
      "execution_count": null,
      "outputs": []
    },
    {
      "cell_type": "markdown",
      "metadata": {
        "id": "nsM0K0C_Vu5e"
      },
      "source": [
        "We can plot the function  and its derivative \n"
      ]
    },
    {
      "cell_type": "code",
      "metadata": {
        "id": "r5S1IIFKVu5e"
      },
      "source": [
        "# Take the derivative with respect to multiple value. Plot out the function and its derivative\n",
        "\n",
        "y.backward()\n",
        "\n",
        "plt.plot(x.detach().numpy(), Y.detach().numpy(), label = 'function')\n",
        "plt.plot(x.detach().numpy(), x.grad.detach().numpy(), label = 'derivative')\n",
        "plt.xlabel('x')\n",
        "plt.legend()\n",
        "plt.show()"
      ],
      "execution_count": null,
      "outputs": []
    },
    {
      "cell_type": "markdown",
      "metadata": {
        "id": "obLj71nuVu5e"
      },
      "source": [
        "The orange line is the slope of the blue line at the intersection point, which is the derivative of the blue line.\n"
      ]
    },
    {
      "cell_type": "markdown",
      "metadata": {
        "id": "JyzNbpscVu5e"
      },
      "source": [
        "The  method <code> detach()</code>  excludes further tracking of operations in the graph, and therefore the subgraph will not record operations. This allows us to then convert the tensor to a numpy array. To understand the sum operation  <a href=\"https://pytorch.org/tutorials/beginner/blitz/autograd_tutorial.html\">Click Here</a>\n"
      ]
    },
    {
      "cell_type": "markdown",
      "metadata": {
        "id": "ZWELtdkSVu5e"
      },
      "source": [
        "<!--Empty Space for separating topics-->\n"
      ]
    },
    {
      "cell_type": "markdown",
      "metadata": {
        "id": "3H3631L8Vu5f"
      },
      "source": [
        "The <b>relu</b> activation function is an essential function in neural networks. We can take the derivative as follows: \n"
      ]
    },
    {
      "cell_type": "code",
      "metadata": {
        "collapsed": true,
        "jupyter": {
          "outputs_hidden": true
        },
        "id": "yUpapPNnVu5f"
      },
      "source": [
        ""
      ],
      "execution_count": null,
      "outputs": []
    },
    {
      "cell_type": "code",
      "metadata": {
        "id": "4o8ZJOwAVu5f"
      },
      "source": [
        "# Take the derivative of Relu with respect to multiple value. Plot out the function and its derivative\n",
        "\n",
        "x = torch.linspace(-10, 10, 1000, requires_grad = True)\n",
        "Y = torch.relu(x)\n",
        "y = Y.sum()\n",
        "y.backward()\n",
        "plt.plot(x.detach().numpy(), Y.detach().numpy(), label = 'function')\n",
        "plt.plot(x.detach().numpy(), x.grad.detach().numpy(), label = 'derivative')\n",
        "plt.xlabel('x')\n",
        "plt.legend()\n",
        "plt.show()"
      ],
      "execution_count": null,
      "outputs": []
    },
    {
      "cell_type": "markdown",
      "metadata": {
        "id": "__oBYhAEVu5f"
      },
      "source": [
        "<!--Empty Space for separating topics-->\n"
      ]
    },
    {
      "cell_type": "code",
      "metadata": {
        "id": "T9j-Yrr3Vu5f"
      },
      "source": [
        "y.grad_fn"
      ],
      "execution_count": null,
      "outputs": []
    },
    {
      "cell_type": "markdown",
      "metadata": {
        "id": "BmWS_6mBVu5f"
      },
      "source": [
        "<h3>Practice</h3>\n"
      ]
    },
    {
      "cell_type": "markdown",
      "metadata": {
        "id": "z2MxuCIIVu5f"
      },
      "source": [
        "Try to determine partial derivative  $u$ of the following function where $u=2$ and $v=1$: $ f=uv+(uv)^2$\n"
      ]
    },
    {
      "cell_type": "code",
      "metadata": {
        "id": "o5yjskX6Vu5g"
      },
      "source": [
        "# Practice: Calculate the derivative of f = u * v + (u * v) ** 2 at u = 2, v = 1\n",
        "\n",
        "# Type the code here"
      ],
      "execution_count": null,
      "outputs": []
    },
    {
      "cell_type": "markdown",
      "metadata": {
        "id": "MYcE5w6fVu5g"
      },
      "source": [
        "Double-click **here** for the solution.\n",
        "\n",
        "<!-- \n",
        "u = torch.tensor(2.0, requires_grad = True)\n",
        "v = torch.tensor(1.0, requires_grad = True)\n",
        "f = u * v + (u * v) ** 2\n",
        "f.backward()\n",
        "print(\"The result is \", u.grad)\n",
        " -->\n"
      ]
    },
    {
      "cell_type": "markdown",
      "metadata": {
        "id": "YNU7CJ1zVu5g"
      },
      "source": [
        "<a href=\"https://dataplatform.cloud.ibm.com/registration/stepone?context=cpdaas&apps=data_science_experience,watson_machine_learning\"><img src=\"https://cf-courses-data.s3.us.cloud-object-storage.appdomain.cloud/IBMDeveloperSkillsNetwork-DL0110EN-SkillsNetwork/Template/module%201/images/Watson_Studio.png\"/></a>\n"
      ]
    },
    {
      "cell_type": "markdown",
      "metadata": {
        "id": "W21EkVU0Vu5g"
      },
      "source": [
        "<h2>About the Authors:</h2> \n",
        "\n",
        "<a href=\"https://www.linkedin.com/in/joseph-s-50398b136/\">Joseph Santarcangelo</a> has a PhD in Electrical Engineering, his research focused on using machine learning, signal processing, and computer vision to determine how videos impact human cognition. Joseph has been working for IBM since he completed his PhD.\n"
      ]
    },
    {
      "cell_type": "markdown",
      "metadata": {
        "id": "Vim-W5mRVu5g"
      },
      "source": [
        "Other contributors: <a href=\"https://www.linkedin.com/in/michelleccarey/\">Michelle Carey</a>, <a href=\"www.linkedin.com/in/jiahui-mavis-zhou-a4537814a\">Mavis Zhou</a> \n"
      ]
    },
    {
      "cell_type": "markdown",
      "metadata": {
        "id": "LMg83E0UVu5g"
      },
      "source": [
        "## Change Log\n",
        "\n",
        "| Date (YYYY-MM-DD) | Version | Changed By | Change Description                                          |\n",
        "| ----------------- | ------- | ---------- | ----------------------------------------------------------- |\n",
        "| 2020-09-21        | 2.0     | Shubham    | Migrated Lab to Markdown and added to course repo in GitLab |\n"
      ]
    },
    {
      "cell_type": "markdown",
      "metadata": {
        "id": "iX-qIbbmVu5g"
      },
      "source": [
        "<hr>\n"
      ]
    },
    {
      "cell_type": "markdown",
      "metadata": {
        "id": "lhd6KRdbVu5h"
      },
      "source": [
        "## <h3 align=\"center\"> © IBM Corporation 2020. All rights reserved. <h3/>\n"
      ]
    }
  ]
}