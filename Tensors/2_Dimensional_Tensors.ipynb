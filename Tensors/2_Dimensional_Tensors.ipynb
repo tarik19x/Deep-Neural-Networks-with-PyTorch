{
  "nbformat": 4,
  "nbformat_minor": 0,
  "metadata": {
    "kernelspec": {
      "display_name": "Python 3",
      "language": "python",
      "name": "python3"
    },
    "language_info": {
      "codemirror_mode": {
        "name": "ipython",
        "version": 3
      },
      "file_extension": ".py",
      "mimetype": "text/x-python",
      "name": "python",
      "nbconvert_exporter": "python",
      "pygments_lexer": "ipython3",
      "version": "3.7.6"
    },
    "colab": {
      "name": "2_Dimensional_Tensors.ipynb",
      "provenance": [],
      "collapsed_sections": [
        "u6jRvxNzHJzK",
        "NFtHO7JiHJzR",
        "pTAjEQllHJzR"
      ],
      "include_colab_link": true
    },
    "accelerator": "GPU"
  },
  "cells": [
    {
      "cell_type": "markdown",
      "metadata": {
        "id": "view-in-github",
        "colab_type": "text"
      },
      "source": [
        "<a href=\"https://colab.research.google.com/github/tarik19x/PytorchBasic/blob/main/Tensors/2_Dimensional_Tensors.ipynb\" target=\"_parent\"><img src=\"https://colab.research.google.com/assets/colab-badge.svg\" alt=\"Open In Colab\"/></a>"
      ]
    },
    {
      "cell_type": "markdown",
      "metadata": {
        "id": "SmP1GfpsHJy8"
      },
      "source": [
        "<center>\n",
        "    <img src=\"https://cf-courses-data.s3.us.cloud-object-storage.appdomain.cloud/IBMDeveloperSkillsNetwork-DL0110EN-SkillsNetwork/Template/module%201/images/IDSNlogo.png\" width=\"300\" alt=\"cognitiveclass.ai logo\"  />\n",
        "</center>\n"
      ]
    },
    {
      "cell_type": "markdown",
      "metadata": {
        "id": "uUpK-81LHJzB"
      },
      "source": [
        "<h1>Two-Dimensional Tensors</h1>\n"
      ]
    },
    {
      "cell_type": "markdown",
      "metadata": {
        "id": "541JyG10HJzB"
      },
      "source": [
        "<h2>Objective</h2><ul><li> How to perform tensor operations on 2D tensors.</li></ul> \n"
      ]
    },
    {
      "cell_type": "markdown",
      "metadata": {
        "id": "eOwQJOpmHJzB"
      },
      "source": [
        "<h2>Table of Contents</h2>\n"
      ]
    },
    {
      "cell_type": "markdown",
      "metadata": {
        "id": "xeeVfc5kHJzC"
      },
      "source": [
        "<p>In this lab, you will learn the basics of tensor operations on 2D tensors.</p>\n",
        "<ul>\n",
        "    <li><a href=\"#Types_Shape\">Types and Shape </a></li>\n",
        "    <li><a href=\"#Index_Slice\">Indexing and Slicing</a></li>\n",
        "    <li><a href=\"#Tensor_Op\">Tensor Operations</a></li>\n",
        "</ul>\n",
        "\n",
        "<p>Estimated Time Needed: <b>10 min</b></p>\n",
        "<hr>\n"
      ]
    },
    {
      "cell_type": "markdown",
      "metadata": {
        "id": "6lrG28QGHJzC"
      },
      "source": [
        "<h2>Preparation</h2>\n"
      ]
    },
    {
      "cell_type": "markdown",
      "metadata": {
        "id": "n2TJmrc7HJzC"
      },
      "source": [
        "The following are the libraries we are going to use for this lab.\n"
      ]
    },
    {
      "cell_type": "code",
      "metadata": {
        "collapsed": true,
        "id": "i7LgryNZHJzC"
      },
      "source": [
        "# These are the libraries will be used for this lab.\n",
        "\n",
        "import numpy as np \n",
        "import matplotlib.pyplot as plt\n",
        "import torch\n",
        "import pandas as pd"
      ],
      "execution_count": null,
      "outputs": []
    },
    {
      "cell_type": "markdown",
      "metadata": {
        "id": "jTmUm2vDHJzD"
      },
      "source": [
        "<!--Empty Space for separating topics-->\n"
      ]
    },
    {
      "cell_type": "markdown",
      "metadata": {
        "id": "69NUdhH7HJzD"
      },
      "source": [
        "<h2 id=\"Types_Shape\">Types and Shape</h2>\n"
      ]
    },
    {
      "cell_type": "markdown",
      "metadata": {
        "id": "AhfEY6hZHJzD"
      },
      "source": [
        "The methods and types for 2D tensors is similar to the methods and types for 1D tensors which has been introduced in <i>Previous Lab</i>.\n"
      ]
    },
    {
      "cell_type": "markdown",
      "metadata": {
        "id": "z19-BQR-HJzD"
      },
      "source": [
        "Let us see how to convert a 2D list to a 2D tensor. First, let us create a 3X3 2D tensor. Then let us try to use <code>torch.tensor()</code> which we used for converting a 1D list to 1D tensor. Is it going to work?\n"
      ]
    },
    {
      "cell_type": "code",
      "metadata": {
        "id": "cYZgkfUZHJzE"
      },
      "source": [
        "# Convert 2D List to 2D Tensor\n",
        "\n",
        "twoD_list = [[11, 12, 13], [21, 22, 23], [31, 32, 33]]\n",
        "twoD_tensor = torch.tensor(twoD_list)\n",
        "print(\"The New 2D Tensor: \", twoD_tensor)"
      ],
      "execution_count": null,
      "outputs": []
    },
    {
      "cell_type": "markdown",
      "metadata": {
        "id": "NLKK2QZoHJzE"
      },
      "source": [
        "Bravo! The method <code>torch.tensor()</code> works perfectly.Now, let us try other functions we studied in the <i>Previous Lab</i>.\n"
      ]
    },
    {
      "cell_type": "markdown",
      "metadata": {
        "id": "0oTi7LlAHJzE"
      },
      "source": [
        "<!--Empty Space for separating topics-->\n"
      ]
    },
    {
      "cell_type": "markdown",
      "metadata": {
        "id": "tp5f3dJJHJzE"
      },
      "source": [
        "Let us try <code><i>tensor_obj</i>.ndimension()</code> (<code>tensor_obj</code>: This can be any tensor object), <code><i>tensor_obj</i>.shape</code>, and <code><i>tensor_obj</i>.size()</code>\n"
      ]
    },
    {
      "cell_type": "code",
      "metadata": {
        "id": "gd_ite5rHJzE"
      },
      "source": [
        "# Try tensor_obj.ndimension(), tensor_obj.shape, tensor_obj.size()\n",
        "\n",
        "print(\"The dimension of twoD_tensor: \", twoD_tensor.ndimension())\n",
        "print(\"The shape of twoD_tensor: \", twoD_tensor.shape)\n",
        "print(\"The shape of twoD_tensor: \", twoD_tensor.size())\n",
        "print(\"The number of elements in twoD_tensor: \", twoD_tensor.numel())"
      ],
      "execution_count": null,
      "outputs": []
    },
    {
      "cell_type": "markdown",
      "metadata": {
        "id": "fsmC7JhaHJzE"
      },
      "source": [
        "Because it is a 2D 3X3 tensor,  the outputs are correct.\n"
      ]
    },
    {
      "cell_type": "markdown",
      "metadata": {
        "id": "17dsanZSHJzF"
      },
      "source": [
        "<!--Empty Space for separating topics-->\n"
      ]
    },
    {
      "cell_type": "markdown",
      "metadata": {
        "id": "sV6-6inDHJzF"
      },
      "source": [
        "Now, let us try converting the tensor to a numpy array and convert the numpy array back to a tensor.\n"
      ]
    },
    {
      "cell_type": "code",
      "metadata": {
        "id": "uj-_GjjdHJzF"
      },
      "source": [
        "# Convert tensor to numpy array; Convert numpy array to tensor\n",
        "\n",
        "twoD_numpy = twoD_tensor.numpy()\n",
        "print(\"Tensor -> Numpy Array:\")\n",
        "print(\"The numpy array after converting: \", twoD_numpy)\n",
        "print(\"Type after converting: \", twoD_numpy.dtype)\n",
        "\n",
        "print(\"================================================\")\n",
        "\n",
        "new_twoD_tensor = torch.from_numpy(twoD_numpy)\n",
        "print(\"Numpy Array -> Tensor:\")\n",
        "print(\"The tensor after converting:\", new_twoD_tensor)\n",
        "print(\"Type after converting: \", new_twoD_tensor.dtype)"
      ],
      "execution_count": null,
      "outputs": []
    },
    {
      "cell_type": "markdown",
      "metadata": {
        "id": "EO1hEquqHJzF"
      },
      "source": [
        "The result shows the tensor has successfully been converted to a numpy array and then converted back to a tensor.\n"
      ]
    },
    {
      "cell_type": "markdown",
      "metadata": {
        "id": "IIGvz1YDHJzF"
      },
      "source": [
        "<!--Empty Space for separating topics-->\n"
      ]
    },
    {
      "cell_type": "markdown",
      "metadata": {
        "id": "_H6GoUfjHJzF"
      },
      "source": [
        "Now let us try to convert a Pandas Dataframe to a tensor. The process is the  Same as the 1D conversion, we can obtain the numpy array via the attribute <code>values</code>. Then, we can use <code>torch.from_numpy()</code> to convert the value of the Pandas Series to a tensor.\n"
      ]
    },
    {
      "cell_type": "code",
      "metadata": {
        "id": "Ydrqxt1pHJzG"
      },
      "source": [
        "# Try to convert the Panda Dataframe to tensor\n",
        "\n",
        "df = pd.DataFrame({'a':[11,21,31],'b':[12,22,312]})\n",
        "\n",
        "print(\"Pandas Dataframe to numpy: \", df.values)\n",
        "print(\"Type BEFORE converting: \", df.values.dtype)\n",
        "\n",
        "print(\"================================================\")\n",
        "\n",
        "new_tensor = torch.from_numpy(df.values)\n",
        "print(\"Tensor AFTER converting: \", new_tensor)\n",
        "print(\"Type AFTER converting: \", new_tensor.dtype)"
      ],
      "execution_count": null,
      "outputs": []
    },
    {
      "cell_type": "markdown",
      "metadata": {
        "id": "gpKthO0tHJzG"
      },
      "source": [
        "<!--Empty Space for separating topics-->\n"
      ]
    },
    {
      "cell_type": "markdown",
      "metadata": {
        "id": "CpHnWbzgHJzG"
      },
      "source": [
        "<!--Empty Space for separating topics-->\n"
      ]
    },
    {
      "cell_type": "markdown",
      "metadata": {
        "id": "5KtlPXBhHJzG"
      },
      "source": [
        "<h3>Practice</h3>\n"
      ]
    },
    {
      "cell_type": "markdown",
      "metadata": {
        "id": "PV0Q8PHkHJzG"
      },
      "source": [
        "Try to convert the following Pandas Dataframe  to a tensor\n"
      ]
    },
    {
      "cell_type": "code",
      "metadata": {
        "id": "JTiyyY8MHJzG"
      },
      "source": [
        "# Practice: try to convert Pandas Series to tensor\n",
        "\n",
        "df = pd.DataFrame({'A':[11, 33, 22],'B':[3, 3, 2]})"
      ],
      "execution_count": null,
      "outputs": []
    },
    {
      "cell_type": "markdown",
      "metadata": {
        "id": "QXluIcx4HJzH"
      },
      "source": [
        "Double-click <b>here</b> for the solution.\n",
        "\n",
        "<!--\n",
        "converted_tensor = torch.tensor(df.values)\n",
        "print (\"Tensor: \", converted_tensor)\n",
        "-->\n"
      ]
    },
    {
      "cell_type": "markdown",
      "metadata": {
        "id": "BLbjwKIxHJzH"
      },
      "source": [
        "<h2 id=\"Index_Slice\">Indexing and Slicing</h2>\n"
      ]
    },
    {
      "cell_type": "markdown",
      "metadata": {
        "id": "YpvlF3n4HJzH"
      },
      "source": [
        "You can use rectangular brackets to access the different elements of the tensor. The correspondence between the rectangular brackets and the list and the rectangular representation is shown in the following figure for a 3X3 tensor:  \n"
      ]
    },
    {
      "cell_type": "markdown",
      "metadata": {
        "id": "YHjTpBszHJzH"
      },
      "source": [
        "<img src=\"https://s3-api.us-geo.objectstorage.softlayer.net/cf-courses-data/CognitiveClass/DL0110EN/notebook_images%20/chapter%201/1.2index1.png\" width=500 alt=\"Matrix Structure Introduce\">\n"
      ]
    },
    {
      "cell_type": "markdown",
      "metadata": {
        "id": "qckabQ-WHJzH"
      },
      "source": [
        "You can access the 2nd-row 3rd-column as shown in the following figure:\n"
      ]
    },
    {
      "cell_type": "markdown",
      "metadata": {
        "id": "fbM-9gHuHJzH"
      },
      "source": [
        "<img src=\"https://s3-api.us-geo.objectstorage.softlayer.net/cf-courses-data/CognitiveClass/DL0110EN/notebook_images%20/chapter%201/1.2index.png\" width=\"500\" alt=\"Example of Matrix Index\">\n"
      ]
    },
    {
      "cell_type": "markdown",
      "metadata": {
        "id": "FdHTR80SHJzI"
      },
      "source": [
        "You simply use the square brackets and the indices corresponding to the element that you want.\n"
      ]
    },
    {
      "cell_type": "markdown",
      "metadata": {
        "id": "KRxLj4rZHJzI"
      },
      "source": [
        "Now, let us try to access the value on position 2nd-row 3rd-column. Remember that the index is always 1 less than how we count rows and columns. There are two ways to access the certain value of a tensor. The example in code will be the same as the example picture above.\n"
      ]
    },
    {
      "cell_type": "code",
      "metadata": {
        "id": "ePoTyl65HJzI"
      },
      "source": [
        "# Use tensor_obj[row, column] and tensor_obj[row][column] to access certain position\n",
        "\n",
        "tensor_example = torch.tensor([[11, 12, 13], [21, 22, 23], [31, 32, 33]])\n",
        "print(\"What is the value on 2nd-row 3rd-column? \", tensor_example[1, 2])\n",
        "print(\"What is the value on 2nd-row 3rd-column? \", tensor_example[1][2])"
      ],
      "execution_count": null,
      "outputs": []
    },
    {
      "cell_type": "markdown",
      "metadata": {
        "id": "hAAJ1KqJHJzI"
      },
      "source": [
        "As we can see, both methods return the true value (the same value as the picture above). Therefore, both of the methods work.\n"
      ]
    },
    {
      "cell_type": "markdown",
      "metadata": {
        "id": "fuCWIBuEHJzJ"
      },
      "source": [
        "<!--Empty Space for separating topics-->\n"
      ]
    },
    {
      "cell_type": "markdown",
      "metadata": {
        "id": "Fd8MCNr2HJzJ"
      },
      "source": [
        "Consider the elements shown in the following figure: \n"
      ]
    },
    {
      "cell_type": "markdown",
      "metadata": {
        "id": "XqRDIlgCHJzJ"
      },
      "source": [
        "<img src=\"https://s3-api.us-geo.objectstorage.softlayer.net/cf-courses-data/CognitiveClass/DL0110EN/notebook_images%20/chapter%201/1.2_index2.png\" width=\"500\" alt=\"Example of Matrix Index\" />\n"
      ]
    },
    {
      "cell_type": "markdown",
      "metadata": {
        "id": "gUGcf7PqHJzJ"
      },
      "source": [
        "Use the method above, we can access the 1st-row 1st-column by <code>tensor_example[0][0]</code>\n"
      ]
    },
    {
      "cell_type": "code",
      "metadata": {
        "id": "Pt79UcPFHJzJ"
      },
      "source": [
        "tensor_example[0][0]"
      ],
      "execution_count": null,
      "outputs": []
    },
    {
      "cell_type": "markdown",
      "metadata": {
        "id": "CceIHekgHJzJ"
      },
      "source": [
        "But what if we want to get the value on both 1st-row 1st-column and 1st-row 2nd-column?\n"
      ]
    },
    {
      "cell_type": "markdown",
      "metadata": {
        "id": "PwSogOodHJzJ"
      },
      "source": [
        "You can also use slicing in a tensor. Consider the following figure. You want to obtain the 1st two columns in the 1st row:  \n"
      ]
    },
    {
      "cell_type": "markdown",
      "metadata": {
        "id": "86ngOj2oHJzK"
      },
      "source": [
        "<img src=\"https://s3-api.us-geo.objectstorage.softlayer.net/cf-courses-data/CognitiveClass/DL0110EN/notebook_images%20/chapter%201/1.2sliceing.png\" width=\"500\" alt=\"Example of Matrix Index and Slicing\" />\n"
      ]
    },
    {
      "cell_type": "markdown",
      "metadata": {
        "id": "u6jRvxNzHJzK"
      },
      "source": [
        "## Let us see how  we use slicing with 2D tensors to get the values in the above picture.\n"
      ]
    },
    {
      "cell_type": "code",
      "metadata": {
        "id": "Wd-ZIZN-HJzK"
      },
      "source": [
        "# Use tensor_obj[begin_row_number: end_row_number, begin_column_number: end_column number] \n",
        "# and tensor_obj[row][begin_column_number: end_column number] to do the slicing\n",
        "\n",
        "tensor_example = torch.tensor([[11, 12, 13], [21, 22, 23], [31, 32, 33]])\n",
        "print(\"What is the value on 1st-row first two columns? \", tensor_example[0, 0:2])\n",
        "print(\"What is the value on 1st-row first two columns? \", tensor_example[0][0:2])"
      ],
      "execution_count": null,
      "outputs": []
    },
    {
      "cell_type": "markdown",
      "metadata": {
        "id": "kwz47OpkHJzK"
      },
      "source": [
        "We get the result as <code>tensor([11, 12])</code> successfully.\n"
      ]
    },
    {
      "cell_type": "markdown",
      "metadata": {
        "id": "LtTpnj0eHJzK"
      },
      "source": [
        "<!--Empty Space for separating topics-->\n"
      ]
    },
    {
      "cell_type": "markdown",
      "metadata": {
        "id": "nWULX-x2HJzK"
      },
      "source": [
        "But we <b>can't</b> combine using slicing on row and pick one column by using the code <code>tensor_obj[begin_row_number: end_row_number][begin_column_number: end_column number]</code>. The reason is that the slicing will be applied on the tensor first. The result type will be a two dimension again. The second bracket will no longer represent the index of the column it will be the index of the row at that time. Let us see an example. \n"
      ]
    },
    {
      "cell_type": "code",
      "metadata": {
        "id": "-C8W6SCHHJzL"
      },
      "source": [
        "# Give an idea on tensor_obj[number: number][number]\n",
        "\n",
        "tensor_example = torch.tensor([[11, 12, 13], [21, 22, 23], [31, 32, 33]])\n",
        "sliced_tensor_example = tensor_example[1:3]\n",
        "print(\"1. Slicing step on tensor_example: \")\n",
        "print(\"Result after tensor_example[1:3]: \", sliced_tensor_example)\n",
        "print(\"Dimension after tensor_example[1:3]: \", sliced_tensor_example.ndimension())\n",
        "print(\"================================================\")\n",
        "print(\"2. Pick an index on sliced_tensor_example: \")\n",
        "print(\"Result after sliced_tensor_example[1]: \", sliced_tensor_example[1])\n",
        "print(\"Dimension after sliced_tensor_example[1]: \", sliced_tensor_example[1].ndimension())\n",
        "print(\"================================================\")\n",
        "print(\"3. Combine these step together:\")\n",
        "print(\"Result: \", tensor_example[1:3][1])\n",
        "print(\"Dimension: \", tensor_example[1:3][1].ndimension())"
      ],
      "execution_count": null,
      "outputs": []
    },
    {
      "cell_type": "markdown",
      "metadata": {
        "id": "mobkxAXJHJzL"
      },
      "source": [
        "See the results and dimensions in 2 and 3 are the same. Both of them contains the 3rd row in the <code>tensor_example</code>, but not the last two values in the 3rd column.\n"
      ]
    },
    {
      "cell_type": "markdown",
      "metadata": {
        "id": "wjmCfC5SHJzL"
      },
      "source": [
        "<!--Empty Space for separating topics-->\n"
      ]
    },
    {
      "cell_type": "markdown",
      "metadata": {
        "id": "9s8_WsboHJzL"
      },
      "source": [
        "So how can we get the elements in the 3rd column with the last two rows? As the below picture.\n"
      ]
    },
    {
      "cell_type": "markdown",
      "metadata": {
        "id": "cJlt_36mHJzL"
      },
      "source": [
        "<img src=\"https://s3-api.us-geo.objectstorage.softlayer.net/cf-courses-data/CognitiveClass/DL0110EN/notebook_images%20/chapter%201/1.2slicing2.png\" width=\"500\" alt=\"Example of Matrix Index and Slicing\" />\n"
      ]
    },
    {
      "cell_type": "markdown",
      "metadata": {
        "id": "MogWtAnaHJzL"
      },
      "source": [
        "Let's see the code below.\n"
      ]
    },
    {
      "cell_type": "code",
      "metadata": {
        "id": "RGUw-OFvHJzM"
      },
      "source": [
        "# Use tensor_obj[begin_row_number: end_row_number, begin_column_number: end_column number] \n",
        "\n",
        "tensor_example = torch.tensor([[11, 12, 13], [21, 22, 23], [31, 32, 33]])\n",
        "print(\"What is the value on 3rd-column last two rows? \", tensor_example[1:3, 2])"
      ],
      "execution_count": null,
      "outputs": []
    },
    {
      "cell_type": "markdown",
      "metadata": {
        "id": "2IOjS3wyHJzM"
      },
      "source": [
        "Fortunately, the code <code>tensor_obj[begin_row_number: end_row_number, begin_column_number: end_column number]</code> is still works.\n"
      ]
    },
    {
      "cell_type": "markdown",
      "metadata": {
        "id": "aaFCBhpJHJzM"
      },
      "source": [
        "<!--Empty Space for separating topics-->\n"
      ]
    },
    {
      "cell_type": "markdown",
      "metadata": {
        "id": "J1ettdITHJzM"
      },
      "source": [
        "<h3>Practice</h3>\n"
      ]
    },
    {
      "cell_type": "markdown",
      "metadata": {
        "id": "ESneiy_hHJzM"
      },
      "source": [
        "Try to change the values on the second column and the last two rows to 0. Basically, change the values on <code>tensor_ques[1][1]</code> and <code>tensor_ques[2][1]</code> to 0.\n"
      ]
    },
    {
      "cell_type": "code",
      "metadata": {
        "id": "SGe3Ww_HHJzM"
      },
      "source": [
        "# Practice: Use slice and index to change the values on the matrix tensor_ques.\n",
        "\n",
        "tensor_ques = torch.tensor([[11, 12, 13], [21, 22, 23], [31, 32, 33]])\n"
      ],
      "execution_count": null,
      "outputs": []
    },
    {
      "cell_type": "markdown",
      "metadata": {
        "id": "1DWIeViuHJzM"
      },
      "source": [
        "Double-click <b>here</b> for the solution.\n",
        "\n",
        "<!--\n",
        "tensor_ques[1:3, 1] = 0\n",
        "print(\"The result: \", tensor_ques)\n",
        "-->\n"
      ]
    },
    {
      "cell_type": "markdown",
      "metadata": {
        "id": "HZTHwqezHJzM"
      },
      "source": [
        "<!--Empty Space for separating topics-->\n"
      ]
    },
    {
      "cell_type": "markdown",
      "metadata": {
        "id": "fPrVMH6CHJzN"
      },
      "source": [
        "<h2 id=\"Tensor_Op\">Tensor Operations</h2> \n"
      ]
    },
    {
      "cell_type": "markdown",
      "metadata": {
        "id": "zRvRpcMGHJzN"
      },
      "source": [
        "We can also do some calculations on 2D tensors.\n"
      ]
    },
    {
      "cell_type": "markdown",
      "metadata": {
        "id": "PnjbPfBpHJzN"
      },
      "source": [
        "<!--Empty Space for separating topics-->\n"
      ]
    },
    {
      "cell_type": "markdown",
      "metadata": {
        "id": "NNFKrbTEHJzN"
      },
      "source": [
        "<h3>Tensor Addition</h3>\n"
      ]
    },
    {
      "cell_type": "markdown",
      "metadata": {
        "id": "orvivhD1HJzN"
      },
      "source": [
        "You can also add tensors; the process is identical to matrix addition. Matrix addition of <b>X</b> and <b>Y</b> is shown in the following figure:\n"
      ]
    },
    {
      "cell_type": "markdown",
      "metadata": {
        "id": "XlBx5YvIHJzN"
      },
      "source": [
        "<img src=\"https://s3-api.us-geo.objectstorage.softlayer.net/cf-courses-data/CognitiveClass/DL0110EN/notebook_images%20/chapter%201/1.2add.png\" width=\"500\" alt=\"Tensor Addition in 2D\">\n"
      ]
    },
    {
      "cell_type": "markdown",
      "metadata": {
        "id": "aYskZynYHJzN"
      },
      "source": [
        "Let us see how tensor addition works with <code>X</code> and <code>Y</code>.\n"
      ]
    },
    {
      "cell_type": "code",
      "metadata": {
        "id": "esvRAUUQHJzN"
      },
      "source": [
        "# Calculate [[1, 0], [0, 1]] + [[2, 1], [1, 2]]\n",
        "\n",
        "X = torch.tensor([[1, 0],[0, 1]]) \n",
        "Y = torch.tensor([[2, 1],[1, 2]])\n",
        "X_plus_Y = X + Y\n",
        "print(\"The result of X + Y: \", X_plus_Y)"
      ],
      "execution_count": null,
      "outputs": []
    },
    {
      "cell_type": "markdown",
      "metadata": {
        "id": "zRK1YMXtHJzN"
      },
      "source": [
        "Like the result shown in the picture above. The result is <code>[[3, 1], [1, 3]]</code>\n"
      ]
    },
    {
      "cell_type": "markdown",
      "metadata": {
        "id": "4DBAGkKeHJzO"
      },
      "source": [
        "<!--Empty Space for separating topics-->\n"
      ]
    },
    {
      "cell_type": "markdown",
      "metadata": {
        "id": "WTNst2_xHJzO"
      },
      "source": [
        "<h3> Scalar Multiplication </h3>\n"
      ]
    },
    {
      "cell_type": "markdown",
      "metadata": {
        "id": "cLfCD6euHJzO"
      },
      "source": [
        "Multiplying a tensor by a scalar is identical to multiplying a matrix by a scaler. If you multiply the matrix <b>Y</b> by the scalar 2, you simply multiply every element in the matrix by 2 as shown in the figure:\n"
      ]
    },
    {
      "cell_type": "markdown",
      "metadata": {
        "id": "oyRbykxHHJzO"
      },
      "source": [
        "<img src=\"https://s3-api.us-geo.objectstorage.softlayer.net/cf-courses-data/CognitiveClass/DL0110EN/notebook_images%20/chapter%201/1.2scaller_mult.png\" width=\"500\" alt=\"The product of tensor and scalar\">\n"
      ]
    },
    {
      "cell_type": "markdown",
      "metadata": {
        "id": "hnjjeWCDHJzO"
      },
      "source": [
        "Let us try to calculate the product of <b>2Y</b>.\n"
      ]
    },
    {
      "cell_type": "code",
      "metadata": {
        "id": "XYIvm8XjHJzO"
      },
      "source": [
        "# Calculate 2 * [[2, 1], [1, 2]]\n",
        "\n",
        "Y = torch.tensor([[2, 1], [1, 2]]) \n",
        "two_Y = 2 * Y\n",
        "print(\"The result of 2Y: \", two_Y)"
      ],
      "execution_count": null,
      "outputs": []
    },
    {
      "cell_type": "markdown",
      "metadata": {
        "id": "ni8nrtFaHJzO"
      },
      "source": [
        "<!--Empty Space for separating topics-->\n"
      ]
    },
    {
      "cell_type": "markdown",
      "metadata": {
        "id": "Exnt98OHHJzO"
      },
      "source": [
        "<h3>Element-wise Product/Hadamard Product</h3>\n"
      ]
    },
    {
      "cell_type": "markdown",
      "metadata": {
        "id": "XUbspcdoHJzP"
      },
      "source": [
        "Multiplication of two tensors corresponds to an element-wise product or Hadamard product.  Consider matrix the <b>X</b> and <b>Y</b> with the same size. The Hadamard product corresponds to multiplying each of the elements at the same position, that is, multiplying elements with the same color together. The result is a new matrix that is the same size as matrix <b>X</b> and <b>Y</b> as shown in the following figure:\n"
      ]
    },
    {
      "cell_type": "markdown",
      "metadata": {
        "id": "_F-7AtfsHJzP"
      },
      "source": [
        " <a><img src=\"https://s3-api.us-geo.objectstorage.softlayer.net/cf-courses-data/CognitiveClass/DL0110EN/notebook_images%20/chapter%201/1.2tensor_pruduct.png\" width=500 align=\"center\"> </a>\n"
      ]
    },
    {
      "cell_type": "markdown",
      "metadata": {
        "id": "KhZ8k9yMHJzP"
      },
      "source": [
        "The code below calculates the element-wise product of the tensor <strong>X</strong> and <strong>Y</strong>:\n"
      ]
    },
    {
      "cell_type": "code",
      "metadata": {
        "id": "N3ueAPkhHJzP"
      },
      "source": [
        "# Calculate [[1, 0], [0, 1]] * [[2, 1], [1, 2]]\n",
        "\n",
        "X = torch.tensor([[1, 0], [0, 1]])\n",
        "Y = torch.tensor([[2, 1], [1, 2]]) \n",
        "X_times_Y = X * Y\n",
        "print(\"The result of X * Y: \", X_times_Y)"
      ],
      "execution_count": null,
      "outputs": []
    },
    {
      "cell_type": "markdown",
      "metadata": {
        "id": "Br0NKwQyHJzP"
      },
      "source": [
        "This is a simple calculation. The result from the code matches the result shown in the picture.\n"
      ]
    },
    {
      "cell_type": "markdown",
      "metadata": {
        "id": "pjb7svmxHJzP"
      },
      "source": [
        "<!--Empty Space for separating topics-->\n"
      ]
    },
    {
      "cell_type": "markdown",
      "metadata": {
        "id": "SnrQL1HoHJzP"
      },
      "source": [
        "<h3>Matrix Multiplication </h3>\n"
      ]
    },
    {
      "cell_type": "markdown",
      "metadata": {
        "id": "1Nu_Uc-OHJzP"
      },
      "source": [
        "We can also apply matrix multiplication to two tensors, if you have learned linear algebra, you should know that in the multiplication of two matrices order matters. This means if <i>X _ Y</i> is valid, it does not mean <i>Y _ X</i> is valid. The number of columns of the matrix on the left side of the multiplication sign must equal to the number of rows of the matrix on the right side.\n"
      ]
    },
    {
      "cell_type": "markdown",
      "metadata": {
        "id": "bnxP4D5wHJzP"
      },
      "source": [
        "First, let us create a tensor <code>X</code> with size 2X3. Then, let us create another tensor <code>Y</code> with size 3X2. Since the number of columns of <code>X</code> is equal to the number of rows of <code>Y</code>. We are able to perform the multiplication.\n"
      ]
    },
    {
      "cell_type": "markdown",
      "metadata": {
        "id": "DYB9t_A2HJzQ"
      },
      "source": [
        "We use <code>torch.mm()</code> for calculating the multiplication between tensors with different sizes.\n"
      ]
    },
    {
      "cell_type": "code",
      "metadata": {
        "id": "_ugx756VHJzQ"
      },
      "source": [
        "# Calculate [[0, 1, 1], [1, 0, 1]] * [[1, 1], [1, 1], [-1, 1]]\n",
        "\n",
        "A = torch.tensor([[0, 1, 1], [1, 0, 1]])\n",
        "B = torch.tensor([[1, 1], [1, 1], [-1, 1]])\n",
        "A_times_B = torch.mm(A,B)\n",
        "print(\"The result of A * B: \", A_times_B)"
      ],
      "execution_count": null,
      "outputs": []
    },
    {
      "cell_type": "markdown",
      "metadata": {
        "id": "fjRg_FCYHJzQ"
      },
      "source": [
        "<!--Empty Space for separating topics-->\n"
      ]
    },
    {
      "cell_type": "markdown",
      "metadata": {
        "id": "fQLv8eHGHJzQ"
      },
      "source": [
        "<h3>Practice</h3>\n"
      ]
    },
    {
      "cell_type": "markdown",
      "metadata": {
        "id": "8WZ3lZ37HJzQ"
      },
      "source": [
        "Try to create your own two tensors (<code>X</code> and <code>Y</code>) with different sizes, and multiply them.\n"
      ]
    },
    {
      "cell_type": "code",
      "metadata": {
        "id": "RflbAIo7HJzQ"
      },
      "source": [
        "# Practice: Calculate the product of two tensors (X and Y) with different sizes \n",
        "\n",
        "# Type your code here"
      ],
      "execution_count": null,
      "outputs": []
    },
    {
      "cell_type": "markdown",
      "metadata": {
        "id": "X6UjzPjOHJzQ"
      },
      "source": [
        "Double-click <b>here</b> for the solution.\n",
        "\n",
        "<!--\n",
        "X = torch.tensor([[0, 1], [1, 2]])\n",
        "Y = torch.tensor([[-1, -2, 0], [2, 1, 2]])\n",
        "X_times_Y = torch.mm(X, Y)\n",
        "print(\"The result of X * Y: \", X_times_Y)\n",
        "-->\n"
      ]
    },
    {
      "cell_type": "markdown",
      "metadata": {
        "id": "sIS6sYVzHJzQ"
      },
      "source": [
        "<a href=\"https://dataplatform.cloud.ibm.com/registration/stepone?context=cpdaas&apps=data_science_experience,watson_machine_learning\"><img src=\"https://cf-courses-data.s3.us.cloud-object-storage.appdomain.cloud/IBMDeveloperSkillsNetwork-DL0110EN-SkillsNetwork/Template/module%201/images/Watson_Studio.png\"/></a>\n"
      ]
    },
    {
      "cell_type": "markdown",
      "metadata": {
        "id": "c3MVxIKEHJzQ"
      },
      "source": [
        "<!--Empty Space for separating topics-->\n"
      ]
    },
    {
      "cell_type": "markdown",
      "metadata": {
        "id": "N6H0FmLOHJzR"
      },
      "source": [
        "<h2>About the Authors:</h2> \n",
        "\n",
        "<a href=\"https://www.linkedin.com/in/joseph-s-50398b136/\">Joseph Santarcangelo</a> has a PhD in Electrical Engineering, his research focused on using machine learning, signal processing, and computer vision to determine how videos impact human cognition. Joseph has been working for IBM since he completed his PhD.\n"
      ]
    },
    {
      "cell_type": "markdown",
      "metadata": {
        "id": "-ewwIGiXHJzR"
      },
      "source": [
        "Other contributors: <a href=\"https://www.linkedin.com/in/michelleccarey/\">Michelle Carey</a>, <a href=\"www.linkedin.com/in/jiahui-mavis-zhou-a4537814a\">Mavis Zhou</a> \n"
      ]
    },
    {
      "cell_type": "markdown",
      "metadata": {
        "id": "NFtHO7JiHJzR"
      },
      "source": [
        "## Change Log\n",
        "\n",
        "| Date (YYYY-MM-DD) | Version | Changed By | Change Description                                          |\n",
        "| ----------------- | ------- | ---------- | ----------------------------------------------------------- |\n",
        "| 2020-09-21        | 2.0     | Shubham    | Migrated Lab to Markdown and added to course repo in GitLab |\n"
      ]
    },
    {
      "cell_type": "markdown",
      "metadata": {
        "id": "zssvA6GCHJzR"
      },
      "source": [
        "<hr>\n"
      ]
    },
    {
      "cell_type": "markdown",
      "metadata": {
        "id": "pTAjEQllHJzR"
      },
      "source": [
        "## <h3 align=\"center\"> © IBM Corporation 2020. All rights reserved. <h3/>\n"
      ]
    }
  ]
}