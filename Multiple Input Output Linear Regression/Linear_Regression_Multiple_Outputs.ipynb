{
  "nbformat": 4,
  "nbformat_minor": 0,
  "metadata": {
    "kernelspec": {
      "display_name": "Python 3",
      "language": "python",
      "name": "python3"
    },
    "language_info": {
      "codemirror_mode": {
        "name": "ipython",
        "version": 3
      },
      "file_extension": ".py",
      "mimetype": "text/x-python",
      "name": "python",
      "nbconvert_exporter": "python",
      "pygments_lexer": "ipython3",
      "version": "3.7.6"
    },
    "colab": {
      "name": "Linear Regression Multiple Outputs.ipynb",
      "provenance": [],
      "toc_visible": true,
      "include_colab_link": true
    },
    "accelerator": "GPU"
  },
  "cells": [
    {
      "cell_type": "markdown",
      "metadata": {
        "id": "view-in-github",
        "colab_type": "text"
      },
      "source": [
        "<a href=\"https://colab.research.google.com/github/tarik19x/Deep-Neural-Networks-with-PyTorch/blob/main/Multiple%20Input%20Output%20Linear%20Regression/Linear_Regression_Multiple_Outputs.ipynb\" target=\"_parent\"><img src=\"https://colab.research.google.com/assets/colab-badge.svg\" alt=\"Open In Colab\"/></a>"
      ]
    },
    {
      "cell_type": "markdown",
      "metadata": {
        "id": "BfVdhp_aaBGG"
      },
      "source": [
        "<center>\n",
        "    <img src=\"https://cf-courses-data.s3.us.cloud-object-storage.appdomain.cloud/IBMDeveloperSkillsNetwork-DL0110EN-SkillsNetwork/Template/module%201/images/IDSNlogo.png\" width=\"300\" alt=\"cognitiveclass.ai logo\"  />\n",
        "</center>\n"
      ]
    },
    {
      "cell_type": "code",
      "metadata": {
        "colab": {
          "base_uri": "https://localhost:8080/"
        },
        "id": "Sa-azwQIe193",
        "outputId": "62183a5f-bc52-415d-dfd7-897f3dba0b82"
      },
      "source": [
        "!nvidia-smi"
      ],
      "execution_count": 1,
      "outputs": [
        {
          "output_type": "stream",
          "text": [
            "Thu Mar  4 04:25:21 2021       \n",
            "+-----------------------------------------------------------------------------+\n",
            "| NVIDIA-SMI 460.39       Driver Version: 460.32.03    CUDA Version: 11.2     |\n",
            "|-------------------------------+----------------------+----------------------+\n",
            "| GPU  Name        Persistence-M| Bus-Id        Disp.A | Volatile Uncorr. ECC |\n",
            "| Fan  Temp  Perf  Pwr:Usage/Cap|         Memory-Usage | GPU-Util  Compute M. |\n",
            "|                               |                      |               MIG M. |\n",
            "|===============================+======================+======================|\n",
            "|   0  Tesla T4            Off  | 00000000:00:04.0 Off |                    0 |\n",
            "| N/A   68C    P8    12W /  70W |      0MiB / 15109MiB |      0%      Default |\n",
            "|                               |                      |                  N/A |\n",
            "+-------------------------------+----------------------+----------------------+\n",
            "                                                                               \n",
            "+-----------------------------------------------------------------------------+\n",
            "| Processes:                                                                  |\n",
            "|  GPU   GI   CI        PID   Type   Process name                  GPU Memory |\n",
            "|        ID   ID                                                   Usage      |\n",
            "|=============================================================================|\n",
            "|  No running processes found                                                 |\n",
            "+-----------------------------------------------------------------------------+\n"
          ],
          "name": "stdout"
        }
      ]
    },
    {
      "cell_type": "markdown",
      "metadata": {
        "id": "FEAqrIOEaBGL"
      },
      "source": [
        "<h2>Objective</h2><ul><li> How to make a prediction using multiple samples.</li></ul> \n"
      ]
    },
    {
      "cell_type": "markdown",
      "metadata": {
        "id": "x326bZ_8aBGM"
      },
      "source": [
        "# Table of Contents\n",
        "\n",
        "In this lab, we will  review how to make a prediction for Linear Regression with Multiple Output. \n",
        "\n",
        "<div class=\"alert alert-block alert-info\" style=\"margin-top: 20px\">\n",
        "\n",
        "<li><a href=\"#ref2\">Build Custom Modules </a></li>\n",
        "\n",
        "<br>\n",
        "<p></p>\n",
        "Estimated Time Needed: <strong>15 min</strong>\n",
        "</div>\n",
        "\n",
        "<hr>\n"
      ]
    },
    {
      "cell_type": "markdown",
      "metadata": {
        "id": "m_Uf8tqeaBGM"
      },
      "source": [
        "<a id=\"ref1\"></a>\n",
        "\n",
        "<h2 align=center>Class Linear  </h2>\n"
      ]
    },
    {
      "cell_type": "code",
      "metadata": {
        "id": "YNKbi1CyaBGN"
      },
      "source": [
        "from torch import nn\n",
        "import torch"
      ],
      "execution_count": 2,
      "outputs": []
    },
    {
      "cell_type": "markdown",
      "metadata": {
        "id": "o01FqWYtaBGN"
      },
      "source": [
        "Set the random seed:\n"
      ]
    },
    {
      "cell_type": "code",
      "metadata": {
        "id": "GlHK05O2aBGN",
        "colab": {
          "base_uri": "https://localhost:8080/"
        },
        "outputId": "63965013-6b57-4139-9cba-72866383e791"
      },
      "source": [
        "torch.manual_seed(1)"
      ],
      "execution_count": 4,
      "outputs": [
        {
          "output_type": "execute_result",
          "data": {
            "text/plain": [
              "<torch._C.Generator at 0x7fe0174f7570>"
            ]
          },
          "metadata": {
            "tags": []
          },
          "execution_count": 4
        }
      ]
    },
    {
      "cell_type": "markdown",
      "metadata": {
        "id": "qAthtVx9aBGO"
      },
      "source": [
        "Set the random seed:\n"
      ]
    },
    {
      "cell_type": "code",
      "metadata": {
        "id": "OGemztcUaBGO"
      },
      "source": [
        "class linear_regression(nn.Module):\n",
        "    def __init__(self,input_size,output_size):\n",
        "        super(linear_regression,self).__init__()\n",
        "        self.linear=nn.Linear(input_size,output_size)\n",
        "    def forward(self,x):\n",
        "        yhat=self.linear(x)\n",
        "        return yhat"
      ],
      "execution_count": 5,
      "outputs": []
    },
    {
      "cell_type": "code",
      "metadata": {
        "colab": {
          "base_uri": "https://localhost:8080/"
        },
        "id": "8TMtXw1PhMgO",
        "outputId": "b06ff686-21c5-4bb1-8ba2-05edb18c4338"
      },
      "source": [
        "torch.tensor([1.0])"
      ],
      "execution_count": 13,
      "outputs": [
        {
          "output_type": "execute_result",
          "data": {
            "text/plain": [
              "tensor([1.])"
            ]
          },
          "metadata": {
            "tags": []
          },
          "execution_count": 13
        }
      ]
    },
    {
      "cell_type": "markdown",
      "metadata": {
        "id": "yAR1oNWuaBGO"
      },
      "source": [
        "create a linear regression  object, as our input and output will be two we set the parameters accordingly \n"
      ]
    },
    {
      "cell_type": "code",
      "metadata": {
        "id": "g7L7LEuMaBGO",
        "colab": {
          "base_uri": "https://localhost:8080/"
        },
        "outputId": "483ab19f-ad4b-4ec8-8e13-2dddffdd112b"
      },
      "source": [
        "model=linear_regression(4,5)\n",
        "\n",
        "# model(torch.tensor([1.0]))\n",
        "model.state_dict()"
      ],
      "execution_count": 56,
      "outputs": [
        {
          "output_type": "execute_result",
          "data": {
            "text/plain": [
              "OrderedDict([('linear.weight', tensor([[ 0.2555,  0.1869,  0.4257, -0.3410],\n",
              "                      [ 0.0043, -0.1477, -0.2797, -0.2813],\n",
              "                      [ 0.1260,  0.0523, -0.2552, -0.3524],\n",
              "                      [-0.4143,  0.4900, -0.0852, -0.1156],\n",
              "                      [-0.1839, -0.2501, -0.4573, -0.2935]])),\n",
              "             ('linear.bias',\n",
              "              tensor([ 0.3056,  0.1096, -0.1764, -0.1890,  0.3194]))])"
            ]
          },
          "metadata": {
            "tags": []
          },
          "execution_count": 56
        }
      ]
    },
    {
      "cell_type": "markdown",
      "metadata": {
        "id": "MQKKFwMkaBGP"
      },
      "source": [
        "we can use the diagram to represent the model or object \n"
      ]
    },
    {
      "cell_type": "markdown",
      "metadata": {
        "id": "gHM83HpYaBGP"
      },
      "source": [
        "<img src = \"https://ibm.box.com/shared/static/icmwnxru7nytlhnq5x486rffea9ncpk7.png\" width = 600, align = \"center\">\n"
      ]
    },
    {
      "cell_type": "markdown",
      "metadata": {
        "id": "wlTRcNfQaBGP"
      },
      "source": [
        "we can see the parameters \n"
      ]
    },
    {
      "cell_type": "code",
      "metadata": {
        "id": "7VR0En9TaBGP",
        "colab": {
          "base_uri": "https://localhost:8080/"
        },
        "outputId": "83fa603d-d205-4167-a34d-9e56a85fdbe7"
      },
      "source": [
        "list(model.parameters())\r\n"
      ],
      "execution_count": 64,
      "outputs": [
        {
          "output_type": "execute_result",
          "data": {
            "text/plain": [
              "[Parameter containing:\n",
              " tensor([[ 0.2555,  0.1869,  0.4257, -0.3410],\n",
              "         [ 0.0043, -0.1477, -0.2797, -0.2813],\n",
              "         [ 0.1260,  0.0523, -0.2552, -0.3524],\n",
              "         [-0.4143,  0.4900, -0.0852, -0.1156],\n",
              "         [-0.1839, -0.2501, -0.4573, -0.2935]], requires_grad=True),\n",
              " Parameter containing:\n",
              " tensor([ 0.3056,  0.1096, -0.1764, -0.1890,  0.3194], requires_grad=True)]"
            ]
          },
          "metadata": {
            "tags": []
          },
          "execution_count": 64
        }
      ]
    },
    {
      "cell_type": "markdown",
      "metadata": {
        "id": "5FIT2RJtaBGP"
      },
      "source": [
        "we can create a tensor with two rows representing one sample of data\n"
      ]
    },
    {
      "cell_type": "code",
      "metadata": {
        "id": "_4axINcDaBGP"
      },
      "source": [
        "x=torch.tensor([[1.0,3.9,2.7,0],[3.9,2.7,1.8,2],[3.9,2.7,10.8,0]])"
      ],
      "execution_count": 61,
      "outputs": []
    },
    {
      "cell_type": "code",
      "metadata": {
        "colab": {
          "base_uri": "https://localhost:8080/"
        },
        "id": "s57S7TAVreya",
        "outputId": "b2255c89-590c-4f8d-d957-27891fa8030f"
      },
      "source": [
        "x.shape"
      ],
      "execution_count": 62,
      "outputs": [
        {
          "output_type": "execute_result",
          "data": {
            "text/plain": [
              "torch.Size([3, 4])"
            ]
          },
          "metadata": {
            "tags": []
          },
          "execution_count": 62
        }
      ]
    },
    {
      "cell_type": "markdown",
      "metadata": {
        "id": "81HwoMSMaBGQ"
      },
      "source": [
        "we can make a prediction \n"
      ]
    },
    {
      "cell_type": "code",
      "metadata": {
        "id": "8HvJ6yUxaBGQ",
        "colab": {
          "base_uri": "https://localhost:8080/"
        },
        "outputId": "b3e8ea00-8c84-4c3d-c1b2-ee2d19bab4e4"
      },
      "source": [
        "yhat=model(x)\n",
        "yhat.shape"
      ],
      "execution_count": 63,
      "outputs": [
        {
          "output_type": "execute_result",
          "data": {
            "text/plain": [
              "torch.Size([3, 5])"
            ]
          },
          "metadata": {
            "tags": []
          },
          "execution_count": 63
        }
      ]
    },
    {
      "cell_type": "markdown",
      "metadata": {
        "id": "gAn7H2L3aBGQ"
      },
      "source": [
        "each row in the following tensor represents a different sample \n"
      ]
    },
    {
      "cell_type": "code",
      "metadata": {
        "id": "fsawUkFOaBGQ"
      },
      "source": [
        "X=torch.tensor([[1.0],\r\n",
        "                [1.0],\r\n",
        "                [3.0]])"
      ],
      "execution_count": 26,
      "outputs": []
    },
    {
      "cell_type": "code",
      "metadata": {
        "colab": {
          "base_uri": "https://localhost:8080/"
        },
        "id": "a5Bj513eiIoG",
        "outputId": "79a44ba4-0a80-434e-c3a3-5a38581d1573"
      },
      "source": [
        "X.shape"
      ],
      "execution_count": 25,
      "outputs": [
        {
          "output_type": "execute_result",
          "data": {
            "text/plain": [
              "torch.Size([3, 1])"
            ]
          },
          "metadata": {
            "tags": []
          },
          "execution_count": 25
        }
      ]
    },
    {
      "cell_type": "markdown",
      "metadata": {
        "id": "ji1iJwgwaBGQ"
      },
      "source": [
        "we can make a prediction using multiple samples \n"
      ]
    },
    {
      "cell_type": "code",
      "metadata": {
        "id": "byZN23aQaBGQ",
        "colab": {
          "base_uri": "https://localhost:8080/"
        },
        "outputId": "2c49ec8d-12e5-48ee-efc3-35d001e17328"
      },
      "source": [
        "Yhat=model(X)\n",
        "Yhat.shape"
      ],
      "execution_count": 27,
      "outputs": [
        {
          "output_type": "execute_result",
          "data": {
            "text/plain": [
              "torch.Size([3, 10])"
            ]
          },
          "metadata": {
            "tags": []
          },
          "execution_count": 27
        }
      ]
    },
    {
      "cell_type": "markdown",
      "metadata": {
        "id": "YGZtmkeMaBGR"
      },
      "source": [
        "the following figure represents the operation, where the red and blue  represents the different parameters, and the different shades of green represent  different samples.\n"
      ]
    },
    {
      "cell_type": "markdown",
      "metadata": {
        "id": "QOVUPnwRaBGR"
      },
      "source": [
        " <img src = \"https://ibm.box.com/shared/static/768cul6pj8hc93uh9ujpajihnp8xdukx.png\" width = 600, align = \"center\">\n"
      ]
    },
    {
      "cell_type": "markdown",
      "metadata": {
        "id": "3Ivi6wYNaBGR"
      },
      "source": [
        "<a href=\"https://dataplatform.cloud.ibm.com/registration/stepone?context=cpdaas&apps=data_science_experience,watson_machine_learning\"><img src=\"https://cf-courses-data.s3.us.cloud-object-storage.appdomain.cloud/IBMDeveloperSkillsNetwork-DL0110EN-SkillsNetwork/Template/module%201/images/Watson_Studio.png\"/></a>\n"
      ]
    },
    {
      "cell_type": "markdown",
      "metadata": {
        "id": "BYqcJEZmaBGS"
      },
      "source": [
        "# About the Authors:\n",
        "\n",
        " [Joseph Santarcangelo](https://www.linkedin.com/in/joseph-s-50398b136?cm_mmc=Email_Newsletter-_-Developer_Ed%2BTech-_-WW_WW-_-SkillsNetwork-Courses-IBMDeveloperSkillsNetwork-DL0110EN-SkillsNetwork-20647811&cm_mmca1=000026UJ&cm_mmca2=10006555&cm_mmca3=M12345678&cvosrc=email.Newsletter.M12345678&cvo_campaign=000026UJ&cm_mmc=Email_Newsletter-_-Developer_Ed%2BTech-_-WW_WW-_-SkillsNetwork-Courses-IBMDeveloperSkillsNetwork-DL0110EN-SkillsNetwork-20647811&cm_mmca1=000026UJ&cm_mmca2=10006555&cm_mmca3=M12345678&cvosrc=email.Newsletter.M12345678&cvo_campaign=000026UJ) has a PhD in Electrical Engineering, his research focused on using machine learning, signal processing, and computer vision to determine how videos impact human cognition. Joseph has been working for IBM since he completed his PhD.\n",
        "\n",
        "Other contributors: [Michelle Carey](https://www.linkedin.com/in/michelleccarey?cm_mmc=Email_Newsletter-_-Developer_Ed%2BTech-_-WW_WW-_-SkillsNetwork-Courses-IBMDeveloperSkillsNetwork-DL0110EN-SkillsNetwork-20647811&cm_mmca1=000026UJ&cm_mmca2=10006555&cm_mmca3=M12345678&cvosrc=email.Newsletter.M12345678&cvo_campaign=000026UJ) \n"
      ]
    },
    {
      "cell_type": "markdown",
      "metadata": {
        "id": "8sTsWx9_aBGS"
      },
      "source": [
        "## Change Log\n",
        "\n",
        "| Date (YYYY-MM-DD) | Version | Changed By | Change Description                                          |\n",
        "| ----------------- | ------- | ---------- | ----------------------------------------------------------- |\n",
        "| 2020-09-23        | 2.0     | Shubham    | Migrated Lab to Markdown and added to course repo in GitLab |\n"
      ]
    },
    {
      "cell_type": "markdown",
      "metadata": {
        "id": "JEvYV3V3aBGS"
      },
      "source": [
        "## <h3 align=\"center\"> © IBM Corporation 2020. All rights reserved. <h3/>\n"
      ]
    }
  ]
}